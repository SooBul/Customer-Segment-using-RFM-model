{
  "nbformat": 4,
  "nbformat_minor": 0,
  "metadata": {
    "colab": {
      "provenance": []
    },
    "kernelspec": {
      "name": "python3",
      "display_name": "Python 3"
    },
    "language_info": {
      "name": "python"
    }
  },
  "cells": [
    {
      "cell_type": "code",
      "source": [
        "import pandas as pd\n",
        "import numpy as np\n",
        "import datetime as dt\n",
        "import seaborn as sns\n",
        "import matplotlib\n",
        "%matplotlib inline\n",
        "import matplotlib.pyplot as plt\n",
        "from sklearn.cluster import KMeans\n",
        "from sklearn.preprocessing import StandardScaler\n",
        "from yellowbrick.cluster import KElbowVisualizer\n",
        "from numpy import math\n",
        "import warnings\n",
        "warnings.simplefilter(action='ignore', category=FutureWarning)"
      ],
      "metadata": {
        "colab": {
          "base_uri": "https://localhost:8080/"
        },
        "id": "6hTJ3HbQKJ0E",
        "outputId": "a53043bc-1e6b-4376-f92e-17bebf265362"
      },
      "execution_count": null,
      "outputs": [
        {
          "output_type": "stream",
          "name": "stderr",
          "text": [
            "<ipython-input-1-e91b8758e284>:11: DeprecationWarning: `np.math` is a deprecated alias for the standard library `math` module (Deprecated Numpy 1.25). Replace usages of `np.math` with `math`\n",
            "  from numpy import math\n"
          ]
        }
      ]
    },
    {
      "cell_type": "markdown",
      "source": [
        "#Loading and Reading dataset"
      ],
      "metadata": {
        "id": "fY1ioIuyLRW-"
      }
    },
    {
      "cell_type": "code",
      "source": [
        "from google.colab import drive\n",
        "drive.mount('/content/drive')"
      ],
      "metadata": {
        "colab": {
          "base_uri": "https://localhost:8080/"
        },
        "id": "AfZLg9xpS-_T",
        "outputId": "28c1cb8c-5a37-4ceb-9442-8e902f672274"
      },
      "execution_count": null,
      "outputs": [
        {
          "output_type": "stream",
          "name": "stdout",
          "text": [
            "Mounted at /content/drive\n"
          ]
        }
      ]
    },
    {
      "cell_type": "code",
      "source": [
        "#url=\"https://view.officeapps.live.com/op/view.aspx?src=https%3A%2F%2Fgitfront.io%2Fr%2Fuser-9324447%2FW4ee46hfqoew%2FPersonal-Projects%2Fraw%2FCustomer%2520Segmentation%2520%2528RFM%2520analystic%2529%2Fdata.xlsx&wdOrigin=BROWSELINK\"\n",
        "data = pd.read_excel('/content/drive/MyDrive/dataset/data.xlsx')\n",
        "print(\"-\"*50)\n",
        "print(\"Dữ liệu được nhập thành công!!\")\n",
        "data.head(3).style.set_properties(**{\"background-color\": \"#cd5c5c\",\"color\": \"black\", \"border-color\": \"black\"})\n"
      ],
      "metadata": {
        "colab": {
          "base_uri": "https://localhost:8080/",
          "height": 178
        },
        "id": "hj_yFkNsLQaA",
        "outputId": "e49fbb50-054a-4a4d-acc1-787acf596d68"
      },
      "execution_count": null,
      "outputs": [
        {
          "output_type": "stream",
          "name": "stdout",
          "text": [
            "--------------------------------------------------\n",
            "Dữ liệu được nhập thành công!!\n"
          ]
        },
        {
          "output_type": "execute_result",
          "data": {
            "text/plain": [
              "<pandas.io.formats.style.Styler at 0x7904ab2ff7c0>"
            ],
            "text/html": [
              "<style type=\"text/css\">\n",
              "#T_2a863_row0_col0, #T_2a863_row0_col1, #T_2a863_row0_col2, #T_2a863_row0_col3, #T_2a863_row0_col4, #T_2a863_row0_col5, #T_2a863_row0_col6, #T_2a863_row0_col7, #T_2a863_row1_col0, #T_2a863_row1_col1, #T_2a863_row1_col2, #T_2a863_row1_col3, #T_2a863_row1_col4, #T_2a863_row1_col5, #T_2a863_row1_col6, #T_2a863_row1_col7, #T_2a863_row2_col0, #T_2a863_row2_col1, #T_2a863_row2_col2, #T_2a863_row2_col3, #T_2a863_row2_col4, #T_2a863_row2_col5, #T_2a863_row2_col6, #T_2a863_row2_col7 {\n",
              "  background-color: #cd5c5c;\n",
              "  color: black;\n",
              "  border-color: black;\n",
              "}\n",
              "</style>\n",
              "<table id=\"T_2a863\" class=\"dataframe\">\n",
              "  <thead>\n",
              "    <tr>\n",
              "      <th class=\"blank level0\" >&nbsp;</th>\n",
              "      <th id=\"T_2a863_level0_col0\" class=\"col_heading level0 col0\" >InvoiceNo</th>\n",
              "      <th id=\"T_2a863_level0_col1\" class=\"col_heading level0 col1\" >StockCode</th>\n",
              "      <th id=\"T_2a863_level0_col2\" class=\"col_heading level0 col2\" >Description</th>\n",
              "      <th id=\"T_2a863_level0_col3\" class=\"col_heading level0 col3\" >Quantity</th>\n",
              "      <th id=\"T_2a863_level0_col4\" class=\"col_heading level0 col4\" >InvoiceDate</th>\n",
              "      <th id=\"T_2a863_level0_col5\" class=\"col_heading level0 col5\" >UnitPrice</th>\n",
              "      <th id=\"T_2a863_level0_col6\" class=\"col_heading level0 col6\" >CustomerID</th>\n",
              "      <th id=\"T_2a863_level0_col7\" class=\"col_heading level0 col7\" >Country</th>\n",
              "    </tr>\n",
              "  </thead>\n",
              "  <tbody>\n",
              "    <tr>\n",
              "      <th id=\"T_2a863_level0_row0\" class=\"row_heading level0 row0\" >0</th>\n",
              "      <td id=\"T_2a863_row0_col0\" class=\"data row0 col0\" >536365</td>\n",
              "      <td id=\"T_2a863_row0_col1\" class=\"data row0 col1\" >85123A</td>\n",
              "      <td id=\"T_2a863_row0_col2\" class=\"data row0 col2\" >WHITE HANGING HEART T-LIGHT HOLDER</td>\n",
              "      <td id=\"T_2a863_row0_col3\" class=\"data row0 col3\" >6</td>\n",
              "      <td id=\"T_2a863_row0_col4\" class=\"data row0 col4\" >2010-12-01 08:26:00</td>\n",
              "      <td id=\"T_2a863_row0_col5\" class=\"data row0 col5\" >2.550000</td>\n",
              "      <td id=\"T_2a863_row0_col6\" class=\"data row0 col6\" >17850.000000</td>\n",
              "      <td id=\"T_2a863_row0_col7\" class=\"data row0 col7\" >United Kingdom</td>\n",
              "    </tr>\n",
              "    <tr>\n",
              "      <th id=\"T_2a863_level0_row1\" class=\"row_heading level0 row1\" >1</th>\n",
              "      <td id=\"T_2a863_row1_col0\" class=\"data row1 col0\" >536365</td>\n",
              "      <td id=\"T_2a863_row1_col1\" class=\"data row1 col1\" >71053</td>\n",
              "      <td id=\"T_2a863_row1_col2\" class=\"data row1 col2\" >WHITE METAL LANTERN</td>\n",
              "      <td id=\"T_2a863_row1_col3\" class=\"data row1 col3\" >6</td>\n",
              "      <td id=\"T_2a863_row1_col4\" class=\"data row1 col4\" >2010-12-01 08:26:00</td>\n",
              "      <td id=\"T_2a863_row1_col5\" class=\"data row1 col5\" >3.390000</td>\n",
              "      <td id=\"T_2a863_row1_col6\" class=\"data row1 col6\" >17850.000000</td>\n",
              "      <td id=\"T_2a863_row1_col7\" class=\"data row1 col7\" >United Kingdom</td>\n",
              "    </tr>\n",
              "    <tr>\n",
              "      <th id=\"T_2a863_level0_row2\" class=\"row_heading level0 row2\" >2</th>\n",
              "      <td id=\"T_2a863_row2_col0\" class=\"data row2 col0\" >536365</td>\n",
              "      <td id=\"T_2a863_row2_col1\" class=\"data row2 col1\" >84406B</td>\n",
              "      <td id=\"T_2a863_row2_col2\" class=\"data row2 col2\" >CREAM CUPID HEARTS COAT HANGER</td>\n",
              "      <td id=\"T_2a863_row2_col3\" class=\"data row2 col3\" >8</td>\n",
              "      <td id=\"T_2a863_row2_col4\" class=\"data row2 col4\" >2010-12-01 08:26:00</td>\n",
              "      <td id=\"T_2a863_row2_col5\" class=\"data row2 col5\" >2.750000</td>\n",
              "      <td id=\"T_2a863_row2_col6\" class=\"data row2 col6\" >17850.000000</td>\n",
              "      <td id=\"T_2a863_row2_col7\" class=\"data row2 col7\" >United Kingdom</td>\n",
              "    </tr>\n",
              "  </tbody>\n",
              "</table>\n"
            ]
          },
          "metadata": {},
          "execution_count": 3
        }
      ]
    },
    {
      "cell_type": "markdown",
      "source": [
        "#Exploring Information of the dataset"
      ],
      "metadata": {
        "id": "1STxCditUJAF"
      }
    },
    {
      "cell_type": "code",
      "source": [
        "pd.set_option('display.max_columns',None)"
      ],
      "metadata": {
        "id": "opYknfLRUBU1"
      },
      "execution_count": null,
      "outputs": []
    },
    {
      "cell_type": "code",
      "source": [
        "def data_overview(df,head=5):\n",
        "  print(\"shape of dataset \".center(125,'-'))\n",
        "  print('Rows:{}'.format(df.shape[0]))\n",
        "  print('columns:{}'.format(df.shape[1]))\n",
        "  print(\"Head \".center(125,'-'))\n",
        "  print(df.head(head))\n",
        "  print(\"Data types\".center(125,'-'))\n",
        "  print(data.dtypes.value_counts())\n",
        "  print(\"Missing values \".center(125,'-'))\n",
        "  print(df.isnull().sum()[df.isnull().sum()>0].sort_values(ascending=False))\n",
        "  print(\"Duplicate values \".center(125,'-'))\n",
        "  print(df.duplicated().sum())\n",
        "  print(\"Statistics os data \".center(125,'-'))\n",
        "  print(df.describe(include=\"all\"))\n",
        "  print(\"Data info\".center(125,'-'))\n",
        "  print(df.info())\n",
        "\n",
        "data_overview(data)"
      ],
      "metadata": {
        "colab": {
          "base_uri": "https://localhost:8080/"
        },
        "id": "uB-CnA2aUZeM",
        "outputId": "f6322f77-c452-49ee-c48f-7daa0af42ed1"
      },
      "execution_count": null,
      "outputs": [
        {
          "output_type": "stream",
          "name": "stdout",
          "text": [
            "------------------------------------------------------shape of dataset ------------------------------------------------------\n",
            "Rows:541909\n",
            "columns:8\n",
            "------------------------------------------------------------Head ------------------------------------------------------------\n",
            "  InvoiceNo StockCode                          Description  Quantity  \\\n",
            "0    536365    85123A   WHITE HANGING HEART T-LIGHT HOLDER         6   \n",
            "1    536365     71053                  WHITE METAL LANTERN         6   \n",
            "2    536365    84406B       CREAM CUPID HEARTS COAT HANGER         8   \n",
            "3    536365    84029G  KNITTED UNION FLAG HOT WATER BOTTLE         6   \n",
            "4    536365    84029E       RED WOOLLY HOTTIE WHITE HEART.         6   \n",
            "\n",
            "          InvoiceDate  UnitPrice  CustomerID         Country  \n",
            "0 2010-12-01 08:26:00       2.55     17850.0  United Kingdom  \n",
            "1 2010-12-01 08:26:00       3.39     17850.0  United Kingdom  \n",
            "2 2010-12-01 08:26:00       2.75     17850.0  United Kingdom  \n",
            "3 2010-12-01 08:26:00       3.39     17850.0  United Kingdom  \n",
            "4 2010-12-01 08:26:00       3.39     17850.0  United Kingdom  \n",
            "----------------------------------------------------------Data types---------------------------------------------------------\n",
            "object            4\n",
            "float64           2\n",
            "int64             1\n",
            "datetime64[ns]    1\n",
            "dtype: int64\n",
            "-------------------------------------------------------Missing values -------------------------------------------------------\n",
            "CustomerID     135080\n",
            "Description      1454\n",
            "dtype: int64\n",
            "------------------------------------------------------Duplicate values ------------------------------------------------------\n",
            "5268\n",
            "-----------------------------------------------------Statistics os data -----------------------------------------------------\n",
            "        InvoiceNo StockCode                         Description  \\\n",
            "count    541909.0    541909                              540455   \n",
            "unique    25900.0      4070                                4223   \n",
            "top      573585.0    85123A  WHITE HANGING HEART T-LIGHT HOLDER   \n",
            "freq       1114.0      2313                                2369   \n",
            "first         NaN       NaN                                 NaN   \n",
            "last          NaN       NaN                                 NaN   \n",
            "mean          NaN       NaN                                 NaN   \n",
            "std           NaN       NaN                                 NaN   \n",
            "min           NaN       NaN                                 NaN   \n",
            "25%           NaN       NaN                                 NaN   \n",
            "50%           NaN       NaN                                 NaN   \n",
            "75%           NaN       NaN                                 NaN   \n",
            "max           NaN       NaN                                 NaN   \n",
            "\n",
            "             Quantity          InvoiceDate      UnitPrice     CustomerID  \\\n",
            "count   541909.000000               541909  541909.000000  406829.000000   \n",
            "unique            NaN                23260            NaN            NaN   \n",
            "top               NaN  2011-10-31 14:41:00            NaN            NaN   \n",
            "freq              NaN                 1114            NaN            NaN   \n",
            "first             NaN  2010-12-01 08:26:00            NaN            NaN   \n",
            "last              NaN  2011-12-09 12:50:00            NaN            NaN   \n",
            "mean         9.552250                  NaN       4.611114   15287.690570   \n",
            "std        218.081158                  NaN      96.759853    1713.600303   \n",
            "min     -80995.000000                  NaN  -11062.060000   12346.000000   \n",
            "25%          1.000000                  NaN       1.250000   13953.000000   \n",
            "50%          3.000000                  NaN       2.080000   15152.000000   \n",
            "75%         10.000000                  NaN       4.130000   16791.000000   \n",
            "max      80995.000000                  NaN   38970.000000   18287.000000   \n",
            "\n",
            "               Country  \n",
            "count           541909  \n",
            "unique              38  \n",
            "top     United Kingdom  \n",
            "freq            495478  \n",
            "first              NaN  \n",
            "last               NaN  \n",
            "mean               NaN  \n",
            "std                NaN  \n",
            "min                NaN  \n",
            "25%                NaN  \n",
            "50%                NaN  \n",
            "75%                NaN  \n",
            "max                NaN  \n",
            "----------------------------------------------------------Data info----------------------------------------------------------\n",
            "<class 'pandas.core.frame.DataFrame'>\n",
            "RangeIndex: 541909 entries, 0 to 541908\n",
            "Data columns (total 8 columns):\n",
            " #   Column       Non-Null Count   Dtype         \n",
            "---  ------       --------------   -----         \n",
            " 0   InvoiceNo    541909 non-null  object        \n",
            " 1   StockCode    541909 non-null  object        \n",
            " 2   Description  540455 non-null  object        \n",
            " 3   Quantity     541909 non-null  int64         \n",
            " 4   InvoiceDate  541909 non-null  datetime64[ns]\n",
            " 5   UnitPrice    541909 non-null  float64       \n",
            " 6   CustomerID   406829 non-null  float64       \n",
            " 7   Country      541909 non-null  object        \n",
            "dtypes: datetime64[ns](1), float64(2), int64(1), object(4)\n",
            "memory usage: 33.1+ MB\n",
            "None\n"
          ]
        }
      ]
    },
    {
      "cell_type": "markdown",
      "source": [
        "- Bộ dữ liệu có Hàng: 1067371 và Cột: 8.\n",
        "\n",
        "- Dataset có 3 loại cột: strings(5), số nguyên(1), float(2).\n",
        "\n",
        "- Tập dữ liệu bị thiếu giá trị trong ID khách hàng (243007) và Mô tả (4382).\n",
        "\n",
        "- Hóa đơn bắt đầu bằng chữ 'c' cần được làm sạch vì giao dịch bị hủy.\n",
        "\n",
        "- Bộ dữ liệu có dữ liệu trùng lặp.\n",
        "\n",
        "- Đồng thời kiểm tra giá trị âm và các ngoại lệ về Số lượng và Giá cả."
      ],
      "metadata": {
        "id": "4N_tEh-QDN-k"
      }
    },
    {
      "cell_type": "markdown",
      "source": [
        "#Data Wrangling"
      ],
      "metadata": {
        "id": "QGkhVmBEYE2j"
      }
    },
    {
      "cell_type": "markdown",
      "source": [
        "1. xử lý giá trị còn thiếu"
      ],
      "metadata": {
        "id": "IIJhB-X4YJEE"
      }
    },
    {
      "cell_type": "code",
      "source": [
        "print(\"Hình dạng dữ liệu trước khi xóa CustomerID của NaN\",data.shape)\n",
        "data.dropna(subset=\"CustomerID\",axis=0,inplace=True)\n",
        "print(\"Hình dạng dữ liệu sau khi xóa CustomerID của NaN\",data.shape)"
      ],
      "metadata": {
        "colab": {
          "base_uri": "https://localhost:8080/"
        },
        "id": "NVz1SsoQXxh4",
        "outputId": "a3568dc5-d1ab-4fcd-b3cc-9c99e5c63dda"
      },
      "execution_count": null,
      "outputs": [
        {
          "output_type": "stream",
          "name": "stdout",
          "text": [
            "Hình dạng dữ liệu trước khi xóa CustomerID của NaN (541909, 8)\n",
            "Hình dạng dữ liệu sau khi xóa CustomerID của NaN (406829, 8)\n"
          ]
        }
      ]
    },
    {
      "cell_type": "code",
      "source": [
        "print(\"Thiếu giá trị trong mỗi cột sau khi xóa ID khách hàng:\\n\",data.isnull().sum())"
      ],
      "metadata": {
        "id": "s7A-MSpiZfL-",
        "colab": {
          "base_uri": "https://localhost:8080/"
        },
        "outputId": "2d46d318-1d98-4af3-dfe6-95f6d6be4f93"
      },
      "execution_count": null,
      "outputs": [
        {
          "output_type": "stream",
          "name": "stdout",
          "text": [
            "Thiếu giá trị trong mỗi cột sau khi xóa ID khách hàng:\n",
            " InvoiceNo      0\n",
            "StockCode      0\n",
            "Description    0\n",
            "Quantity       0\n",
            "InvoiceDate    0\n",
            "UnitPrice      0\n",
            "CustomerID     0\n",
            "Country        0\n",
            "dtype: int64\n"
          ]
        }
      ]
    },
    {
      "cell_type": "markdown",
      "source": [
        "2. Xóa sản phẩm bị hủy khỏi hóa đơn"
      ],
      "metadata": {
        "id": "oBbEEnIJDfnH"
      }
    },
    {
      "cell_type": "code",
      "source": [
        "data = data[~data.InvoiceNo.str.contains('C',na=False)]\n",
        "print(\"Bộ dữ liệu không có thông tin sản phẩm bị hủy\")"
      ],
      "metadata": {
        "colab": {
          "base_uri": "https://localhost:8080/"
        },
        "id": "eiPNIKZzDhQb",
        "outputId": "9112db1e-3f7a-4798-cae5-46abbf789c26"
      },
      "execution_count": null,
      "outputs": [
        {
          "output_type": "stream",
          "name": "stdout",
          "text": [
            "Bộ dữ liệu không có thông tin sản phẩm bị hủy\n"
          ]
        }
      ]
    },
    {
      "cell_type": "markdown",
      "source": [
        "3. Xóa giá trị trùng lặp"
      ],
      "metadata": {
        "id": "SatNZ-8EEgaV"
      }
    },
    {
      "cell_type": "code",
      "source": [
        "print(\"Số lượng bản sao trước khi làm sạch:\",data.duplicated().sum())\n",
        "data = data.drop_duplicates(keep=\"first\")\n",
        "print(\"Số lượng bản sao sau khi làm sạch:\",data.duplicated().sum())"
      ],
      "metadata": {
        "colab": {
          "base_uri": "https://localhost:8080/"
        },
        "id": "QVAxuIQbEkab",
        "outputId": "b019b021-fe63-4e26-de35-3a844f5c4b86"
      },
      "execution_count": null,
      "outputs": [
        {
          "output_type": "stream",
          "name": "stdout",
          "text": [
            "Số lượng bản sao trước khi làm sạch: 5192\n",
            "Số lượng bản sao sau khi làm sạch: 0\n"
          ]
        }
      ]
    },
    {
      "cell_type": "markdown",
      "source": [
        "4. Kiểm tra giá trị âm"
      ],
      "metadata": {
        "id": "hfpPI0YsEyQ0"
      }
    },
    {
      "cell_type": "code",
      "source": [
        "print(\"Giá trị âm trong Số lượng là:\",(data.Quantity<0).sum())\n",
        "print(\"Giá trị âm trong Giá là:\",(data.UnitPrice<0).sum())"
      ],
      "metadata": {
        "colab": {
          "base_uri": "https://localhost:8080/"
        },
        "id": "bb4Tmd89E0kV",
        "outputId": "78778eb9-4bde-43e4-decc-f1de21522848"
      },
      "execution_count": null,
      "outputs": [
        {
          "output_type": "stream",
          "name": "stdout",
          "text": [
            "Giá trị âm trong Số lượng là: 0\n",
            "Giá trị âm trong Giá là: 0\n"
          ]
        }
      ]
    },
    {
      "cell_type": "markdown",
      "source": [
        "#**EDA: Feature Engineering**"
      ],
      "metadata": {
        "id": "xejxUy3nF7bw"
      }
    },
    {
      "cell_type": "markdown",
      "source": [],
      "metadata": {
        "id": "lT0Hqh0XimEQ"
      }
    },
    {
      "cell_type": "code",
      "source": [
        "#Tạo tính năng mới Doanh thu\n",
        "data[\"Revenue\"] = data[\"Quantity\"] * data[\"UnitPrice\"]"
      ],
      "metadata": {
        "id": "YIoMJhqRGAzY"
      },
      "execution_count": null,
      "outputs": []
    },
    {
      "cell_type": "code",
      "source": [
        "#Thay đổi kiểu dữ liệu thành datetime\n",
        "data['InvoiceDate'] = pd.to_datetime(data['InvoiceDate'])"
      ],
      "metadata": {
        "id": "og49-BI6GJAg"
      },
      "execution_count": null,
      "outputs": []
    },
    {
      "cell_type": "code",
      "source": [
        "print(\"Max date :\",data[\"InvoiceDate\"].max())\n",
        "print(\"Min date :\",data[\"InvoiceDate\"].min())"
      ],
      "metadata": {
        "colab": {
          "base_uri": "https://localhost:8080/"
        },
        "id": "MbuBc0RUGRbK",
        "outputId": "13c7ce34-ca21-4cf0-c3da-b4454ce36ac2"
      },
      "execution_count": null,
      "outputs": [
        {
          "output_type": "stream",
          "name": "stdout",
          "text": [
            "Max date : 2011-12-09 12:50:00\n",
            "Min date : 2010-12-01 08:26:00\n"
          ]
        }
      ]
    },
    {
      "cell_type": "code",
      "source": [
        "#Đặt ngày muộn nhất 2011-12-10 làm ngày hóa đơn cuối cùng là 2011-12-09.\n",
        "Latest_Date = dt.datetime(2011,12,10)\n",
        "\n",
        "#Tạo các tính năng RFM với tập hợp con ID khách hàng\n",
        "RFM = data.groupby('CustomerID').agg({'InvoiceDate': lambda x: (Latest_Date - x.max()).days,\n",
        "                                                 'InvoiceNo': lambda x: x.nunique(),\n",
        "                                                 \"Revenue\": lambda x: x.sum()})\n",
        "\n",
        "RFM['InvoiceDate'] = RFM['InvoiceDate'].astype(int)\n",
        "\n",
        "#Đổi tên các tên cột thành Lần gần đây, Tần suất và Tiền tệ\n",
        "RFM.rename(columns={'InvoiceDate': 'Recency',\n",
        "                         'InvoiceNo': 'Frequency',\n",
        "                         'Revenue': 'Monetary'}, inplace=True)\n",
        "\n",
        "RFM.reset_index().head().style.set_properties(**{\"background-color\": \"#cd5c5c\",\"color\": \"black\", \"border-color\": \"black\"})"
      ],
      "metadata": {
        "colab": {
          "base_uri": "https://localhost:8080/",
          "height": 206
        },
        "id": "YJNePLMAGZqK",
        "outputId": "d17612aa-c44c-4c3b-fee1-07ea19b82636"
      },
      "execution_count": null,
      "outputs": [
        {
          "output_type": "execute_result",
          "data": {
            "text/plain": [
              "<pandas.io.formats.style.Styler at 0x7904f011cf10>"
            ],
            "text/html": [
              "<style type=\"text/css\">\n",
              "#T_71004_row0_col0, #T_71004_row0_col1, #T_71004_row0_col2, #T_71004_row0_col3, #T_71004_row1_col0, #T_71004_row1_col1, #T_71004_row1_col2, #T_71004_row1_col3, #T_71004_row2_col0, #T_71004_row2_col1, #T_71004_row2_col2, #T_71004_row2_col3, #T_71004_row3_col0, #T_71004_row3_col1, #T_71004_row3_col2, #T_71004_row3_col3, #T_71004_row4_col0, #T_71004_row4_col1, #T_71004_row4_col2, #T_71004_row4_col3 {\n",
              "  background-color: #cd5c5c;\n",
              "  color: black;\n",
              "  border-color: black;\n",
              "}\n",
              "</style>\n",
              "<table id=\"T_71004\" class=\"dataframe\">\n",
              "  <thead>\n",
              "    <tr>\n",
              "      <th class=\"blank level0\" >&nbsp;</th>\n",
              "      <th id=\"T_71004_level0_col0\" class=\"col_heading level0 col0\" >CustomerID</th>\n",
              "      <th id=\"T_71004_level0_col1\" class=\"col_heading level0 col1\" >Recency</th>\n",
              "      <th id=\"T_71004_level0_col2\" class=\"col_heading level0 col2\" >Frequency</th>\n",
              "      <th id=\"T_71004_level0_col3\" class=\"col_heading level0 col3\" >Monetary</th>\n",
              "    </tr>\n",
              "  </thead>\n",
              "  <tbody>\n",
              "    <tr>\n",
              "      <th id=\"T_71004_level0_row0\" class=\"row_heading level0 row0\" >0</th>\n",
              "      <td id=\"T_71004_row0_col0\" class=\"data row0 col0\" >12346.000000</td>\n",
              "      <td id=\"T_71004_row0_col1\" class=\"data row0 col1\" >325</td>\n",
              "      <td id=\"T_71004_row0_col2\" class=\"data row0 col2\" >1</td>\n",
              "      <td id=\"T_71004_row0_col3\" class=\"data row0 col3\" >77183.600000</td>\n",
              "    </tr>\n",
              "    <tr>\n",
              "      <th id=\"T_71004_level0_row1\" class=\"row_heading level0 row1\" >1</th>\n",
              "      <td id=\"T_71004_row1_col0\" class=\"data row1 col0\" >12347.000000</td>\n",
              "      <td id=\"T_71004_row1_col1\" class=\"data row1 col1\" >2</td>\n",
              "      <td id=\"T_71004_row1_col2\" class=\"data row1 col2\" >7</td>\n",
              "      <td id=\"T_71004_row1_col3\" class=\"data row1 col3\" >4310.000000</td>\n",
              "    </tr>\n",
              "    <tr>\n",
              "      <th id=\"T_71004_level0_row2\" class=\"row_heading level0 row2\" >2</th>\n",
              "      <td id=\"T_71004_row2_col0\" class=\"data row2 col0\" >12348.000000</td>\n",
              "      <td id=\"T_71004_row2_col1\" class=\"data row2 col1\" >75</td>\n",
              "      <td id=\"T_71004_row2_col2\" class=\"data row2 col2\" >4</td>\n",
              "      <td id=\"T_71004_row2_col3\" class=\"data row2 col3\" >1797.240000</td>\n",
              "    </tr>\n",
              "    <tr>\n",
              "      <th id=\"T_71004_level0_row3\" class=\"row_heading level0 row3\" >3</th>\n",
              "      <td id=\"T_71004_row3_col0\" class=\"data row3 col0\" >12349.000000</td>\n",
              "      <td id=\"T_71004_row3_col1\" class=\"data row3 col1\" >18</td>\n",
              "      <td id=\"T_71004_row3_col2\" class=\"data row3 col2\" >1</td>\n",
              "      <td id=\"T_71004_row3_col3\" class=\"data row3 col3\" >1757.550000</td>\n",
              "    </tr>\n",
              "    <tr>\n",
              "      <th id=\"T_71004_level0_row4\" class=\"row_heading level0 row4\" >4</th>\n",
              "      <td id=\"T_71004_row4_col0\" class=\"data row4 col0\" >12350.000000</td>\n",
              "      <td id=\"T_71004_row4_col1\" class=\"data row4 col1\" >310</td>\n",
              "      <td id=\"T_71004_row4_col2\" class=\"data row4 col2\" >1</td>\n",
              "      <td id=\"T_71004_row4_col3\" class=\"data row4 col3\" >334.400000</td>\n",
              "    </tr>\n",
              "  </tbody>\n",
              "</table>\n"
            ]
          },
          "metadata": {},
          "execution_count": 13
        }
      ]
    },
    {
      "cell_type": "code",
      "source": [
        "RFM = RFM[(RFM[\"Frequency\"]>1)]\n",
        "RFM.head().style.set_properties(**{\"background-color\": \"#cd5c5c\",\"color\": \"black\", \"border-color\": \"black\"})"
      ],
      "metadata": {
        "colab": {
          "base_uri": "https://localhost:8080/",
          "height": 238
        },
        "id": "wh0GzDaIHGnj",
        "outputId": "4b33623c-35d6-4ab6-de52-0f93595143c0"
      },
      "execution_count": null,
      "outputs": [
        {
          "output_type": "execute_result",
          "data": {
            "text/plain": [
              "<pandas.io.formats.style.Styler at 0x7904f011d1e0>"
            ],
            "text/html": [
              "<style type=\"text/css\">\n",
              "#T_9bd0e_row0_col0, #T_9bd0e_row0_col1, #T_9bd0e_row0_col2, #T_9bd0e_row1_col0, #T_9bd0e_row1_col1, #T_9bd0e_row1_col2, #T_9bd0e_row2_col0, #T_9bd0e_row2_col1, #T_9bd0e_row2_col2, #T_9bd0e_row3_col0, #T_9bd0e_row3_col1, #T_9bd0e_row3_col2, #T_9bd0e_row4_col0, #T_9bd0e_row4_col1, #T_9bd0e_row4_col2 {\n",
              "  background-color: #cd5c5c;\n",
              "  color: black;\n",
              "  border-color: black;\n",
              "}\n",
              "</style>\n",
              "<table id=\"T_9bd0e\" class=\"dataframe\">\n",
              "  <thead>\n",
              "    <tr>\n",
              "      <th class=\"blank level0\" >&nbsp;</th>\n",
              "      <th id=\"T_9bd0e_level0_col0\" class=\"col_heading level0 col0\" >Recency</th>\n",
              "      <th id=\"T_9bd0e_level0_col1\" class=\"col_heading level0 col1\" >Frequency</th>\n",
              "      <th id=\"T_9bd0e_level0_col2\" class=\"col_heading level0 col2\" >Monetary</th>\n",
              "    </tr>\n",
              "    <tr>\n",
              "      <th class=\"index_name level0\" >CustomerID</th>\n",
              "      <th class=\"blank col0\" >&nbsp;</th>\n",
              "      <th class=\"blank col1\" >&nbsp;</th>\n",
              "      <th class=\"blank col2\" >&nbsp;</th>\n",
              "    </tr>\n",
              "  </thead>\n",
              "  <tbody>\n",
              "    <tr>\n",
              "      <th id=\"T_9bd0e_level0_row0\" class=\"row_heading level0 row0\" >12347.000000</th>\n",
              "      <td id=\"T_9bd0e_row0_col0\" class=\"data row0 col0\" >2</td>\n",
              "      <td id=\"T_9bd0e_row0_col1\" class=\"data row0 col1\" >7</td>\n",
              "      <td id=\"T_9bd0e_row0_col2\" class=\"data row0 col2\" >4310.000000</td>\n",
              "    </tr>\n",
              "    <tr>\n",
              "      <th id=\"T_9bd0e_level0_row1\" class=\"row_heading level0 row1\" >12348.000000</th>\n",
              "      <td id=\"T_9bd0e_row1_col0\" class=\"data row1 col0\" >75</td>\n",
              "      <td id=\"T_9bd0e_row1_col1\" class=\"data row1 col1\" >4</td>\n",
              "      <td id=\"T_9bd0e_row1_col2\" class=\"data row1 col2\" >1797.240000</td>\n",
              "    </tr>\n",
              "    <tr>\n",
              "      <th id=\"T_9bd0e_level0_row2\" class=\"row_heading level0 row2\" >12352.000000</th>\n",
              "      <td id=\"T_9bd0e_row2_col0\" class=\"data row2 col0\" >36</td>\n",
              "      <td id=\"T_9bd0e_row2_col1\" class=\"data row2 col1\" >8</td>\n",
              "      <td id=\"T_9bd0e_row2_col2\" class=\"data row2 col2\" >2506.040000</td>\n",
              "    </tr>\n",
              "    <tr>\n",
              "      <th id=\"T_9bd0e_level0_row3\" class=\"row_heading level0 row3\" >12356.000000</th>\n",
              "      <td id=\"T_9bd0e_row3_col0\" class=\"data row3 col0\" >22</td>\n",
              "      <td id=\"T_9bd0e_row3_col1\" class=\"data row3 col1\" >3</td>\n",
              "      <td id=\"T_9bd0e_row3_col2\" class=\"data row3 col2\" >2811.430000</td>\n",
              "    </tr>\n",
              "    <tr>\n",
              "      <th id=\"T_9bd0e_level0_row4\" class=\"row_heading level0 row4\" >12358.000000</th>\n",
              "      <td id=\"T_9bd0e_row4_col0\" class=\"data row4 col0\" >1</td>\n",
              "      <td id=\"T_9bd0e_row4_col1\" class=\"data row4 col1\" >2</td>\n",
              "      <td id=\"T_9bd0e_row4_col2\" class=\"data row4 col2\" >1168.060000</td>\n",
              "    </tr>\n",
              "  </tbody>\n",
              "</table>\n"
            ]
          },
          "metadata": {},
          "execution_count": 14
        }
      ]
    },
    {
      "cell_type": "code",
      "source": [
        "Shopping_Cycle = data.groupby('CustomerID').agg({'InvoiceDate': lambda x: ((x.max() - x.min()).days)})"
      ],
      "metadata": {
        "id": "rf0ytEUtHVFy"
      },
      "execution_count": null,
      "outputs": []
    },
    {
      "cell_type": "code",
      "source": [
        "RFM[\"Shopping_Cycle\"] = Shopping_Cycle\n",
        "RFM.head().style.set_properties(**{\"background-color\": \"#cd5c5c\",\"color\": \"black\", \"border-color\": \"black\"})"
      ],
      "metadata": {
        "colab": {
          "base_uri": "https://localhost:8080/",
          "height": 238
        },
        "id": "WU4cWabBHZrO",
        "outputId": "c4ea9d75-5b89-41ef-acb3-40fa2dbfaa9b"
      },
      "execution_count": null,
      "outputs": [
        {
          "output_type": "execute_result",
          "data": {
            "text/plain": [
              "<pandas.io.formats.style.Styler at 0x7904ab188880>"
            ],
            "text/html": [
              "<style type=\"text/css\">\n",
              "#T_69f92_row0_col0, #T_69f92_row0_col1, #T_69f92_row0_col2, #T_69f92_row0_col3, #T_69f92_row1_col0, #T_69f92_row1_col1, #T_69f92_row1_col2, #T_69f92_row1_col3, #T_69f92_row2_col0, #T_69f92_row2_col1, #T_69f92_row2_col2, #T_69f92_row2_col3, #T_69f92_row3_col0, #T_69f92_row3_col1, #T_69f92_row3_col2, #T_69f92_row3_col3, #T_69f92_row4_col0, #T_69f92_row4_col1, #T_69f92_row4_col2, #T_69f92_row4_col3 {\n",
              "  background-color: #cd5c5c;\n",
              "  color: black;\n",
              "  border-color: black;\n",
              "}\n",
              "</style>\n",
              "<table id=\"T_69f92\" class=\"dataframe\">\n",
              "  <thead>\n",
              "    <tr>\n",
              "      <th class=\"blank level0\" >&nbsp;</th>\n",
              "      <th id=\"T_69f92_level0_col0\" class=\"col_heading level0 col0\" >Recency</th>\n",
              "      <th id=\"T_69f92_level0_col1\" class=\"col_heading level0 col1\" >Frequency</th>\n",
              "      <th id=\"T_69f92_level0_col2\" class=\"col_heading level0 col2\" >Monetary</th>\n",
              "      <th id=\"T_69f92_level0_col3\" class=\"col_heading level0 col3\" >Shopping_Cycle</th>\n",
              "    </tr>\n",
              "    <tr>\n",
              "      <th class=\"index_name level0\" >CustomerID</th>\n",
              "      <th class=\"blank col0\" >&nbsp;</th>\n",
              "      <th class=\"blank col1\" >&nbsp;</th>\n",
              "      <th class=\"blank col2\" >&nbsp;</th>\n",
              "      <th class=\"blank col3\" >&nbsp;</th>\n",
              "    </tr>\n",
              "  </thead>\n",
              "  <tbody>\n",
              "    <tr>\n",
              "      <th id=\"T_69f92_level0_row0\" class=\"row_heading level0 row0\" >12347.000000</th>\n",
              "      <td id=\"T_69f92_row0_col0\" class=\"data row0 col0\" >2</td>\n",
              "      <td id=\"T_69f92_row0_col1\" class=\"data row0 col1\" >7</td>\n",
              "      <td id=\"T_69f92_row0_col2\" class=\"data row0 col2\" >4310.000000</td>\n",
              "      <td id=\"T_69f92_row0_col3\" class=\"data row0 col3\" >365</td>\n",
              "    </tr>\n",
              "    <tr>\n",
              "      <th id=\"T_69f92_level0_row1\" class=\"row_heading level0 row1\" >12348.000000</th>\n",
              "      <td id=\"T_69f92_row1_col0\" class=\"data row1 col0\" >75</td>\n",
              "      <td id=\"T_69f92_row1_col1\" class=\"data row1 col1\" >4</td>\n",
              "      <td id=\"T_69f92_row1_col2\" class=\"data row1 col2\" >1797.240000</td>\n",
              "      <td id=\"T_69f92_row1_col3\" class=\"data row1 col3\" >282</td>\n",
              "    </tr>\n",
              "    <tr>\n",
              "      <th id=\"T_69f92_level0_row2\" class=\"row_heading level0 row2\" >12352.000000</th>\n",
              "      <td id=\"T_69f92_row2_col0\" class=\"data row2 col0\" >36</td>\n",
              "      <td id=\"T_69f92_row2_col1\" class=\"data row2 col1\" >8</td>\n",
              "      <td id=\"T_69f92_row2_col2\" class=\"data row2 col2\" >2506.040000</td>\n",
              "      <td id=\"T_69f92_row2_col3\" class=\"data row2 col3\" >260</td>\n",
              "    </tr>\n",
              "    <tr>\n",
              "      <th id=\"T_69f92_level0_row3\" class=\"row_heading level0 row3\" >12356.000000</th>\n",
              "      <td id=\"T_69f92_row3_col0\" class=\"data row3 col0\" >22</td>\n",
              "      <td id=\"T_69f92_row3_col1\" class=\"data row3 col1\" >3</td>\n",
              "      <td id=\"T_69f92_row3_col2\" class=\"data row3 col2\" >2811.430000</td>\n",
              "      <td id=\"T_69f92_row3_col3\" class=\"data row3 col3\" >302</td>\n",
              "    </tr>\n",
              "    <tr>\n",
              "      <th id=\"T_69f92_level0_row4\" class=\"row_heading level0 row4\" >12358.000000</th>\n",
              "      <td id=\"T_69f92_row4_col0\" class=\"data row4 col0\" >1</td>\n",
              "      <td id=\"T_69f92_row4_col1\" class=\"data row4 col1\" >2</td>\n",
              "      <td id=\"T_69f92_row4_col2\" class=\"data row4 col2\" >1168.060000</td>\n",
              "      <td id=\"T_69f92_row4_col3\" class=\"data row4 col3\" >149</td>\n",
              "    </tr>\n",
              "  </tbody>\n",
              "</table>\n"
            ]
          },
          "metadata": {},
          "execution_count": 16
        }
      ]
    },
    {
      "cell_type": "code",
      "source": [
        "RFM[\"Interpurchase_Time\"] = RFM[\"Shopping_Cycle\"] // RFM[\"Frequency\"]\n",
        "RFMT = RFM[[\"Recency\",\"Frequency\",\"Monetary\",\"Interpurchase_Time\"]]\n",
        "RFMT.head().style.set_properties(**{\"background-color\": \"#cd5c5c\",\"color\": \"black\", \"border-color\": \"black\"})"
      ],
      "metadata": {
        "colab": {
          "base_uri": "https://localhost:8080/",
          "height": 238
        },
        "id": "s3R-BH3FHeCO",
        "outputId": "86d17830-2498-42d5-9cb4-e52659c53fda"
      },
      "execution_count": null,
      "outputs": [
        {
          "output_type": "execute_result",
          "data": {
            "text/plain": [
              "<pandas.io.formats.style.Styler at 0x7904f011dcf0>"
            ],
            "text/html": [
              "<style type=\"text/css\">\n",
              "#T_287b5_row0_col0, #T_287b5_row0_col1, #T_287b5_row0_col2, #T_287b5_row0_col3, #T_287b5_row1_col0, #T_287b5_row1_col1, #T_287b5_row1_col2, #T_287b5_row1_col3, #T_287b5_row2_col0, #T_287b5_row2_col1, #T_287b5_row2_col2, #T_287b5_row2_col3, #T_287b5_row3_col0, #T_287b5_row3_col1, #T_287b5_row3_col2, #T_287b5_row3_col3, #T_287b5_row4_col0, #T_287b5_row4_col1, #T_287b5_row4_col2, #T_287b5_row4_col3 {\n",
              "  background-color: #cd5c5c;\n",
              "  color: black;\n",
              "  border-color: black;\n",
              "}\n",
              "</style>\n",
              "<table id=\"T_287b5\" class=\"dataframe\">\n",
              "  <thead>\n",
              "    <tr>\n",
              "      <th class=\"blank level0\" >&nbsp;</th>\n",
              "      <th id=\"T_287b5_level0_col0\" class=\"col_heading level0 col0\" >Recency</th>\n",
              "      <th id=\"T_287b5_level0_col1\" class=\"col_heading level0 col1\" >Frequency</th>\n",
              "      <th id=\"T_287b5_level0_col2\" class=\"col_heading level0 col2\" >Monetary</th>\n",
              "      <th id=\"T_287b5_level0_col3\" class=\"col_heading level0 col3\" >Interpurchase_Time</th>\n",
              "    </tr>\n",
              "    <tr>\n",
              "      <th class=\"index_name level0\" >CustomerID</th>\n",
              "      <th class=\"blank col0\" >&nbsp;</th>\n",
              "      <th class=\"blank col1\" >&nbsp;</th>\n",
              "      <th class=\"blank col2\" >&nbsp;</th>\n",
              "      <th class=\"blank col3\" >&nbsp;</th>\n",
              "    </tr>\n",
              "  </thead>\n",
              "  <tbody>\n",
              "    <tr>\n",
              "      <th id=\"T_287b5_level0_row0\" class=\"row_heading level0 row0\" >12347.000000</th>\n",
              "      <td id=\"T_287b5_row0_col0\" class=\"data row0 col0\" >2</td>\n",
              "      <td id=\"T_287b5_row0_col1\" class=\"data row0 col1\" >7</td>\n",
              "      <td id=\"T_287b5_row0_col2\" class=\"data row0 col2\" >4310.000000</td>\n",
              "      <td id=\"T_287b5_row0_col3\" class=\"data row0 col3\" >52</td>\n",
              "    </tr>\n",
              "    <tr>\n",
              "      <th id=\"T_287b5_level0_row1\" class=\"row_heading level0 row1\" >12348.000000</th>\n",
              "      <td id=\"T_287b5_row1_col0\" class=\"data row1 col0\" >75</td>\n",
              "      <td id=\"T_287b5_row1_col1\" class=\"data row1 col1\" >4</td>\n",
              "      <td id=\"T_287b5_row1_col2\" class=\"data row1 col2\" >1797.240000</td>\n",
              "      <td id=\"T_287b5_row1_col3\" class=\"data row1 col3\" >70</td>\n",
              "    </tr>\n",
              "    <tr>\n",
              "      <th id=\"T_287b5_level0_row2\" class=\"row_heading level0 row2\" >12352.000000</th>\n",
              "      <td id=\"T_287b5_row2_col0\" class=\"data row2 col0\" >36</td>\n",
              "      <td id=\"T_287b5_row2_col1\" class=\"data row2 col1\" >8</td>\n",
              "      <td id=\"T_287b5_row2_col2\" class=\"data row2 col2\" >2506.040000</td>\n",
              "      <td id=\"T_287b5_row2_col3\" class=\"data row2 col3\" >32</td>\n",
              "    </tr>\n",
              "    <tr>\n",
              "      <th id=\"T_287b5_level0_row3\" class=\"row_heading level0 row3\" >12356.000000</th>\n",
              "      <td id=\"T_287b5_row3_col0\" class=\"data row3 col0\" >22</td>\n",
              "      <td id=\"T_287b5_row3_col1\" class=\"data row3 col1\" >3</td>\n",
              "      <td id=\"T_287b5_row3_col2\" class=\"data row3 col2\" >2811.430000</td>\n",
              "      <td id=\"T_287b5_row3_col3\" class=\"data row3 col3\" >100</td>\n",
              "    </tr>\n",
              "    <tr>\n",
              "      <th id=\"T_287b5_level0_row4\" class=\"row_heading level0 row4\" >12358.000000</th>\n",
              "      <td id=\"T_287b5_row4_col0\" class=\"data row4 col0\" >1</td>\n",
              "      <td id=\"T_287b5_row4_col1\" class=\"data row4 col1\" >2</td>\n",
              "      <td id=\"T_287b5_row4_col2\" class=\"data row4 col2\" >1168.060000</td>\n",
              "      <td id=\"T_287b5_row4_col3\" class=\"data row4 col3\" >74</td>\n",
              "    </tr>\n",
              "  </tbody>\n",
              "</table>\n"
            ]
          },
          "metadata": {},
          "execution_count": 17
        }
      ]
    },
    {
      "cell_type": "markdown",
      "source": [
        "#**Modeling with Kmeans Algorithm**"
      ],
      "metadata": {
        "id": "vYiCU5LOHpkB"
      }
    },
    {
      "cell_type": "code",
      "source": [
        "# Tìm giá trị K bằng phương pháp Elbow\n",
        "plt.figure(figsize=(10,5))\n",
        "ax = plt.axes()\n",
        "ax.set_facecolor(\"#cd5c5c\")\n",
        "Elbow_M = KElbowVisualizer(KMeans(), k=10)\n",
        "Elbow_M.fit(RFMT)\n",
        "Elbow_M.show()\n",
        "print(\"Therefore K = 4\")"
      ],
      "metadata": {
        "colab": {
          "base_uri": "https://localhost:8080/",
          "height": 502
        },
        "id": "j0qL6MxOHnDe",
        "outputId": "dd4d27b2-a9fc-475b-e01b-fd4c43d52837"
      },
      "execution_count": null,
      "outputs": [
        {
          "output_type": "display_data",
          "data": {
            "text/plain": [
              "<Figure size 1000x500 with 2 Axes>"
            ],
            "image/png": "[encoded data removed]"
          },
          "metadata": {}
        },
        {
          "output_type": "stream",
          "name": "stdout",
          "text": [
            "Therefore K = 4\n"
          ]
        }
      ]
    },
    {
      "cell_type": "code",
      "source": [
        "kmeans = KMeans(n_clusters=4,max_iter=50)\n",
        "kmeans.fit(RFMT)"
      ],
      "metadata": {
        "colab": {
          "base_uri": "https://localhost:8080/",
          "height": 75
        },
        "id": "0Zc8XDWJH742",
        "outputId": "a527c3d0-9d24-47f2-f94a-64102b430384"
      },
      "execution_count": null,
      "outputs": [
        {
          "output_type": "execute_result",
          "data": {
            "text/plain": [
              "KMeans(max_iter=50, n_clusters=4)"
            ],
            "text/html": [
              "<style>#sk-container-id-1 {color: black;background-color: white;}#sk-container-id-1 pre{padding: 0;}#sk-container-id-1 div.sk-toggleable {background-color: white;}#sk-container-id-1 label.sk-toggleable__label {cursor: pointer;display: block;width: 100%;margin-bottom: 0;padding: 0.3em;box-sizing: border-box;text-align: center;}#sk-container-id-1 label.sk-toggleable__label-arrow:before {content: \"▸\";float: left;margin-right: 0.25em;color: #696969;}#sk-container-id-1 label.sk-toggleable__label-arrow:hover:before {color: black;}#sk-container-id-1 div.sk-estimator:hover label.sk-toggleable__label-arrow:before {color: black;}#sk-container-id-1 div.sk-toggleable__content {max-height: 0;max-width: 0;overflow: hidden;text-align: left;background-color: #f0f8ff;}#sk-container-id-1 div.sk-toggleable__content pre {margin: 0.2em;color: black;border-radius: 0.25em;background-color: #f0f8ff;}#sk-container-id-1 input.sk-toggleable__control:checked~div.sk-toggleable__content {max-height: 200px;max-width: 100%;overflow: auto;}#sk-container-id-1 input.sk-toggleable__control:checked~label.sk-toggleable__label-arrow:before {content: \"▾\";}#sk-container-id-1 div.sk-estimator input.sk-toggleable__control:checked~label.sk-toggleable__label {background-color: #d4ebff;}#sk-container-id-1 div.sk-label input.sk-toggleable__control:checked~label.sk-toggleable__label {background-color: #d4ebff;}#sk-container-id-1 input.sk-hidden--visually {border: 0;clip: rect(1px 1px 1px 1px);clip: rect(1px, 1px, 1px, 1px);height: 1px;margin: -1px;overflow: hidden;padding: 0;position: absolute;width: 1px;}#sk-container-id-1 div.sk-estimator {font-family: monospace;background-color: #f0f8ff;border: 1px dotted black;border-radius: 0.25em;box-sizing: border-box;margin-bottom: 0.5em;}#sk-container-id-1 div.sk-estimator:hover {background-color: #d4ebff;}#sk-container-id-1 div.sk-parallel-item::after {content: \"\";width: 100%;border-bottom: 1px solid gray;flex-grow: 1;}#sk-container-id-1 div.sk-label:hover label.sk-toggleable__label {background-color: #d4ebff;}#sk-container-id-1 div.sk-serial::before {content: \"\";position: absolute;border-left: 1px solid gray;box-sizing: border-box;top: 0;bottom: 0;left: 50%;z-index: 0;}#sk-container-id-1 div.sk-serial {display: flex;flex-direction: column;align-items: center;background-color: white;padding-right: 0.2em;padding-left: 0.2em;position: relative;}#sk-container-id-1 div.sk-item {position: relative;z-index: 1;}#sk-container-id-1 div.sk-parallel {display: flex;align-items: stretch;justify-content: center;background-color: white;position: relative;}#sk-container-id-1 div.sk-item::before, #sk-container-id-1 div.sk-parallel-item::before {content: \"\";position: absolute;border-left: 1px solid gray;box-sizing: border-box;top: 0;bottom: 0;left: 50%;z-index: -1;}#sk-container-id-1 div.sk-parallel-item {display: flex;flex-direction: column;z-index: 1;position: relative;background-color: white;}#sk-container-id-1 div.sk-parallel-item:first-child::after {align-self: flex-end;width: 50%;}#sk-container-id-1 div.sk-parallel-item:last-child::after {align-self: flex-start;width: 50%;}#sk-container-id-1 div.sk-parallel-item:only-child::after {width: 0;}#sk-container-id-1 div.sk-dashed-wrapped {border: 1px dashed gray;margin: 0 0.4em 0.5em 0.4em;box-sizing: border-box;padding-bottom: 0.4em;background-color: white;}#sk-container-id-1 div.sk-label label {font-family: monospace;font-weight: bold;display: inline-block;line-height: 1.2em;}#sk-container-id-1 div.sk-label-container {text-align: center;}#sk-container-id-1 div.sk-container {/* jupyter's `normalize.less` sets `[hidden] { display: none; }` but bootstrap.min.css set `[hidden] { display: none !important; }` so we also need the `!important` here to be able to override the default hidden behavior on the sphinx rendered scikit-learn.org. See: https://github.com/scikit-learn/scikit-learn/issues/21755 */display: inline-block !important;position: relative;}#sk-container-id-1 div.sk-text-repr-fallback {display: none;}</style><div id=\"sk-container-id-1\" class=\"sk-top-container\"><div class=\"sk-text-repr-fallback\"><pre>KMeans(max_iter=50, n_clusters=4)</pre><b>In a Jupyter environment, please rerun this cell to show the HTML representation or trust the notebook. <br />On GitHub, the HTML representation is unable to render, please try loading this page with nbviewer.org.</b></div><div class=\"sk-container\" hidden><div class=\"sk-item\"><div class=\"sk-estimator sk-toggleable\"><input class=\"sk-toggleable__control sk-hidden--visually\" id=\"sk-estimator-id-1\" type=\"checkbox\" checked><label for=\"sk-estimator-id-1\" class=\"sk-toggleable__label sk-toggleable__label-arrow\">KMeans</label><div class=\"sk-toggleable__content\"><pre>KMeans(max_iter=50, n_clusters=4)</pre></div></div></div></div></div>"
            ]
          },
          "metadata": {},
          "execution_count": 19
        }
      ]
    },
    {
      "cell_type": "code",
      "source": [
        "RFMT[\"Clusters\"]=kmeans.labels_\n",
        "RFMT.head().style.set_properties(**{\"background-color\": \"#cd5c5c\",\"color\": \"black\", \"border-color\": \"black\"})"
      ],
      "metadata": {
        "colab": {
          "base_uri": "https://localhost:8080/",
          "height": 238
        },
        "id": "vxpvGWFHIDKw",
        "outputId": "5613abb7-f594-423e-e499-5be2887a9e8c"
      },
      "execution_count": null,
      "outputs": [
        {
          "output_type": "execute_result",
          "data": {
            "text/plain": [
              "<pandas.io.formats.style.Styler at 0x7904f011ded0>"
            ],
            "text/html": [
              "<style type=\"text/css\">\n",
              "#T_63e7e_row0_col0, #T_63e7e_row0_col1, #T_63e7e_row0_col2, #T_63e7e_row0_col3, #T_63e7e_row0_col4, #T_63e7e_row1_col0, #T_63e7e_row1_col1, #T_63e7e_row1_col2, #T_63e7e_row1_col3, #T_63e7e_row1_col4, #T_63e7e_row2_col0, #T_63e7e_row2_col1, #T_63e7e_row2_col2, #T_63e7e_row2_col3, #T_63e7e_row2_col4, #T_63e7e_row3_col0, #T_63e7e_row3_col1, #T_63e7e_row3_col2, #T_63e7e_row3_col3, #T_63e7e_row3_col4, #T_63e7e_row4_col0, #T_63e7e_row4_col1, #T_63e7e_row4_col2, #T_63e7e_row4_col3, #T_63e7e_row4_col4 {\n",
              "  background-color: #cd5c5c;\n",
              "  color: black;\n",
              "  border-color: black;\n",
              "}\n",
              "</style>\n",
              "<table id=\"T_63e7e\" class=\"dataframe\">\n",
              "  <thead>\n",
              "    <tr>\n",
              "      <th class=\"blank level0\" >&nbsp;</th>\n",
              "      <th id=\"T_63e7e_level0_col0\" class=\"col_heading level0 col0\" >Recency</th>\n",
              "      <th id=\"T_63e7e_level0_col1\" class=\"col_heading level0 col1\" >Frequency</th>\n",
              "      <th id=\"T_63e7e_level0_col2\" class=\"col_heading level0 col2\" >Monetary</th>\n",
              "      <th id=\"T_63e7e_level0_col3\" class=\"col_heading level0 col3\" >Interpurchase_Time</th>\n",
              "      <th id=\"T_63e7e_level0_col4\" class=\"col_heading level0 col4\" >Clusters</th>\n",
              "    </tr>\n",
              "    <tr>\n",
              "      <th class=\"index_name level0\" >CustomerID</th>\n",
              "      <th class=\"blank col0\" >&nbsp;</th>\n",
              "      <th class=\"blank col1\" >&nbsp;</th>\n",
              "      <th class=\"blank col2\" >&nbsp;</th>\n",
              "      <th class=\"blank col3\" >&nbsp;</th>\n",
              "      <th class=\"blank col4\" >&nbsp;</th>\n",
              "    </tr>\n",
              "  </thead>\n",
              "  <tbody>\n",
              "    <tr>\n",
              "      <th id=\"T_63e7e_level0_row0\" class=\"row_heading level0 row0\" >12347.000000</th>\n",
              "      <td id=\"T_63e7e_row0_col0\" class=\"data row0 col0\" >2</td>\n",
              "      <td id=\"T_63e7e_row0_col1\" class=\"data row0 col1\" >7</td>\n",
              "      <td id=\"T_63e7e_row0_col2\" class=\"data row0 col2\" >4310.000000</td>\n",
              "      <td id=\"T_63e7e_row0_col3\" class=\"data row0 col3\" >52</td>\n",
              "      <td id=\"T_63e7e_row0_col4\" class=\"data row0 col4\" >0</td>\n",
              "    </tr>\n",
              "    <tr>\n",
              "      <th id=\"T_63e7e_level0_row1\" class=\"row_heading level0 row1\" >12348.000000</th>\n",
              "      <td id=\"T_63e7e_row1_col0\" class=\"data row1 col0\" >75</td>\n",
              "      <td id=\"T_63e7e_row1_col1\" class=\"data row1 col1\" >4</td>\n",
              "      <td id=\"T_63e7e_row1_col2\" class=\"data row1 col2\" >1797.240000</td>\n",
              "      <td id=\"T_63e7e_row1_col3\" class=\"data row1 col3\" >70</td>\n",
              "      <td id=\"T_63e7e_row1_col4\" class=\"data row1 col4\" >0</td>\n",
              "    </tr>\n",
              "    <tr>\n",
              "      <th id=\"T_63e7e_level0_row2\" class=\"row_heading level0 row2\" >12352.000000</th>\n",
              "      <td id=\"T_63e7e_row2_col0\" class=\"data row2 col0\" >36</td>\n",
              "      <td id=\"T_63e7e_row2_col1\" class=\"data row2 col1\" >8</td>\n",
              "      <td id=\"T_63e7e_row2_col2\" class=\"data row2 col2\" >2506.040000</td>\n",
              "      <td id=\"T_63e7e_row2_col3\" class=\"data row2 col3\" >32</td>\n",
              "      <td id=\"T_63e7e_row2_col4\" class=\"data row2 col4\" >0</td>\n",
              "    </tr>\n",
              "    <tr>\n",
              "      <th id=\"T_63e7e_level0_row3\" class=\"row_heading level0 row3\" >12356.000000</th>\n",
              "      <td id=\"T_63e7e_row3_col0\" class=\"data row3 col0\" >22</td>\n",
              "      <td id=\"T_63e7e_row3_col1\" class=\"data row3 col1\" >3</td>\n",
              "      <td id=\"T_63e7e_row3_col2\" class=\"data row3 col2\" >2811.430000</td>\n",
              "      <td id=\"T_63e7e_row3_col3\" class=\"data row3 col3\" >100</td>\n",
              "      <td id=\"T_63e7e_row3_col4\" class=\"data row3 col4\" >0</td>\n",
              "    </tr>\n",
              "    <tr>\n",
              "      <th id=\"T_63e7e_level0_row4\" class=\"row_heading level0 row4\" >12358.000000</th>\n",
              "      <td id=\"T_63e7e_row4_col0\" class=\"data row4 col0\" >1</td>\n",
              "      <td id=\"T_63e7e_row4_col1\" class=\"data row4 col1\" >2</td>\n",
              "      <td id=\"T_63e7e_row4_col2\" class=\"data row4 col2\" >1168.060000</td>\n",
              "      <td id=\"T_63e7e_row4_col3\" class=\"data row4 col3\" >74</td>\n",
              "      <td id=\"T_63e7e_row4_col4\" class=\"data row4 col4\" >0</td>\n",
              "    </tr>\n",
              "  </tbody>\n",
              "</table>\n"
            ]
          },
          "metadata": {},
          "execution_count": 20
        }
      ]
    },
    {
      "cell_type": "markdown",
      "source": [
        "#**Model : Evaluation**"
      ],
      "metadata": {
        "id": "5p6sivlAIJ3j"
      }
    },
    {
      "cell_type": "code",
      "source": [
        "kmeans.cluster_centers_"
      ],
      "metadata": {
        "colab": {
          "base_uri": "https://localhost:8080/"
        },
        "id": "hWCDhbAoIGEp",
        "outputId": "90518a15-6bc7-4a56-f242-fe936e181dbd"
      },
      "execution_count": null,
      "outputs": [
        {
          "output_type": "execute_result",
          "data": {
            "text/plain": [
              "array([[5.89245014e+01, 5.43340456e+00, 2.00326506e+03, 4.64754274e+01],\n",
              "       [8.40000000e+00, 6.50000000e+01, 1.49739814e+05, 2.60000000e+01],\n",
              "       [2.02000000e+01, 4.42000000e+01, 4.53162887e+04, 1.13666667e+01],\n",
              "       [5.00000000e-01, 6.70000000e+01, 2.69931660e+05, 5.00000000e+00]])"
            ]
          },
          "metadata": {},
          "execution_count": 21
        }
      ]
    },
    {
      "cell_type": "code",
      "source": [
        "# nhóm dữ liệu theo từng cụm riêng biệt\n",
        "one = RFMT[RFMT[\"Clusters\"]==0]\n",
        "two = RFMT[RFMT[\"Clusters\"]==1]\n",
        "three = RFMT[RFMT[\"Clusters\"]==2]\n",
        "four = RFMT[RFMT[\"Clusters\"]==3]\n",
        "\n",
        "#Kiểm tra chất lượng phân cụm trong tập dữ liệu\n",
        "plt.figure(figsize=(10,5))\n",
        "ax = plt.axes()\n",
        "ax.set_facecolor(\"#cd5c5c\")\n",
        "plt.scatter(one[\"Recency\"],one[\"Frequency\"],color='green')\n",
        "plt.scatter(two[\"Recency\"],two[\"Frequency\"],color='red')\n",
        "plt.scatter(three[\"Recency\"],three[\"Frequency\"],color='grey')\n",
        "plt.scatter(four[\"Recency\"],four[\"Frequency\"],color='blue')\n",
        "\n",
        "plt.scatter(kmeans.cluster_centers_[:,0],kmeans.cluster_centers_[:,1],color=\"yellow\",marker=\"*\",label=\"centroid\")\n",
        "plt.legend()\n",
        "plt.show"
      ],
      "metadata": {
        "colab": {
          "base_uri": "https://localhost:8080/",
          "height": 615
        },
        "id": "7qSWgf61IOqn",
        "outputId": "b881e52a-3c25-4f34-907a-69192ed80362"
      },
      "execution_count": null,
      "outputs": [
        {
          "output_type": "execute_result",
          "data": {
            "text/plain": [
              "<function matplotlib.pyplot.show(close=None, block=None)>"
            ],
            "text/html": [
              "<div style=\"max-width:800px; border: 1px solid var(--colab-border-color);\"><style>\n",
              "      pre.function-repr-contents {\n",
              "        overflow-x: auto;\n",
              "        padding: 8px 12px;\n",
              "        max-height: 500px;\n",
              "      }\n",
              "\n",
              "      pre.function-repr-contents.function-repr-contents-collapsed {\n",
              "        cursor: pointer;\n",
              "        max-height: 100px;\n",
              "      }\n",
              "    </style>\n",
              "    <pre style=\"white-space: initial; background:\n",
              "         var(--colab-secondary-surface-color); padding: 8px 12px;\n",
              "         border-bottom: 1px solid var(--colab-border-color);\"><b>matplotlib.pyplot.show</b><br/>def show(*args, **kwargs)</pre><pre class=\"function-repr-contents function-repr-contents-collapsed\" style=\"\"><a class=\"filepath\" style=\"display:none\" href=\"#\">/usr/local/lib/python3.10/dist-packages/matplotlib/pyplot.py</a>Display all open figures.\n",
              "\n",
              "Parameters\n",
              "----------\n",
              "block : bool, optional\n",
              "    Whether to wait for all figures to be closed before returning.\n",
              "\n",
              "    If `True` block and run the GUI main loop until all figure windows\n",
              "    are closed.\n",
              "\n",
              "    If `False` ensure that all figure windows are displayed and return\n",
              "    immediately.  In this case, you are responsible for ensuring\n",
              "    that the event loop is running to have responsive figures.\n",
              "\n",
              "    Defaults to True in non-interactive mode and to False in interactive\n",
              "    mode (see `.pyplot.isinteractive`).\n",
              "\n",
              "See Also\n",
              "--------\n",
              "ion : Enable interactive mode, which shows / updates the figure after\n",
              "      every plotting command, so that calling ``show()`` is not necessary.\n",
              "ioff : Disable interactive mode.\n",
              "savefig : Save the figure to an image file instead of showing it on screen.\n",
              "\n",
              "Notes\n",
              "-----\n",
              "**Saving figures to file and showing a window at the same time**\n",
              "\n",
              "If you want an image file as well as a user interface window, use\n",
              "`.pyplot.savefig` before `.pyplot.show`. At the end of (a blocking)\n",
              "``show()`` the figure is closed and thus unregistered from pyplot. Calling\n",
              "`.pyplot.savefig` afterwards would save a new and thus empty figure. This\n",
              "limitation of command order does not apply if the show is non-blocking or\n",
              "if you keep a reference to the figure and use `.Figure.savefig`.\n",
              "\n",
              "**Auto-show in jupyter notebooks**\n",
              "\n",
              "The jupyter backends (activated via ``%matplotlib inline``,\n",
              "``%matplotlib notebook``, or ``%matplotlib widget``), call ``show()`` at\n",
              "the end of every cell by default. Thus, you usually don&#x27;t have to call it\n",
              "explicitly there.</pre>\n",
              "      <script>\n",
              "      if (google.colab.kernel.accessAllowed && google.colab.files && google.colab.files.view) {\n",
              "        for (const element of document.querySelectorAll('.filepath')) {\n",
              "          element.style.display = 'block'\n",
              "          element.onclick = (event) => {\n",
              "            event.preventDefault();\n",
              "            event.stopPropagation();\n",
              "            google.colab.files.view(element.textContent, 401);\n",
              "          };\n",
              "        }\n",
              "      }\n",
              "      for (const element of document.querySelectorAll('.function-repr-contents')) {\n",
              "        element.onclick = (event) => {\n",
              "          event.preventDefault();\n",
              "          event.stopPropagation();\n",
              "          element.classList.toggle('function-repr-contents-collapsed');\n",
              "        };\n",
              "      }\n",
              "      </script>\n",
              "      </div>"
            ]
          },
          "metadata": {},
          "execution_count": 22
        },
        {
          "output_type": "display_data",
          "data": {
            "text/plain": [
              "<Figure size 1000x500 with 1 Axes>"
            ],
            "image/png": "[encoded data removed]"
          },
          "metadata": {}
        }
      ]
    },
    {
      "cell_type": "code",
      "source": [
        "RFMT.groupby('Clusters').agg({\n",
        "    'Recency': ['mean','min','max'],\n",
        "    'Frequency': ['mean','min','max'],\n",
        "    'Monetary': ['mean','min','max']\n",
        "    ,'Interpurchase_Time': ['mean','min','max']\n",
        "}).round(2).style.set_properties(**{\"background-color\": \"#cd5c5c\",\"color\": \"black\", \"border-color\": \"black\"})\n",
        "\n"
      ],
      "metadata": {
        "colab": {
          "base_uri": "https://localhost:8080/",
          "height": 238
        },
        "id": "vUuLEdpXOBuc",
        "outputId": "9bc95ec4-f1e2-4eb9-fdbb-2564c5ad30aa"
      },
      "execution_count": null,
      "outputs": [
        {
          "output_type": "execute_result",
          "data": {
            "text/plain": [
              "<pandas.io.formats.style.Styler at 0x7904ab18a950>"
            ],
            "text/html": [
              "<style type=\"text/css\">\n",
              "#T_06361_row0_col0, #T_06361_row0_col1, #T_06361_row0_col2, #T_06361_row0_col3, #T_06361_row0_col4, #T_06361_row0_col5, #T_06361_row0_col6, #T_06361_row0_col7, #T_06361_row0_col8, #T_06361_row0_col9, #T_06361_row0_col10, #T_06361_row0_col11, #T_06361_row1_col0, #T_06361_row1_col1, #T_06361_row1_col2, #T_06361_row1_col3, #T_06361_row1_col4, #T_06361_row1_col5, #T_06361_row1_col6, #T_06361_row1_col7, #T_06361_row1_col8, #T_06361_row1_col9, #T_06361_row1_col10, #T_06361_row1_col11, #T_06361_row2_col0, #T_06361_row2_col1, #T_06361_row2_col2, #T_06361_row2_col3, #T_06361_row2_col4, #T_06361_row2_col5, #T_06361_row2_col6, #T_06361_row2_col7, #T_06361_row2_col8, #T_06361_row2_col9, #T_06361_row2_col10, #T_06361_row2_col11, #T_06361_row3_col0, #T_06361_row3_col1, #T_06361_row3_col2, #T_06361_row3_col3, #T_06361_row3_col4, #T_06361_row3_col5, #T_06361_row3_col6, #T_06361_row3_col7, #T_06361_row3_col8, #T_06361_row3_col9, #T_06361_row3_col10, #T_06361_row3_col11 {\n",
              "  background-color: #cd5c5c;\n",
              "  color: black;\n",
              "  border-color: black;\n",
              "}\n",
              "</style>\n",
              "<table id=\"T_06361\" class=\"dataframe\">\n",
              "  <thead>\n",
              "    <tr>\n",
              "      <th class=\"blank level0\" >&nbsp;</th>\n",
              "      <th id=\"T_06361_level0_col0\" class=\"col_heading level0 col0\" colspan=\"3\">Recency</th>\n",
              "      <th id=\"T_06361_level0_col3\" class=\"col_heading level0 col3\" colspan=\"3\">Frequency</th>\n",
              "      <th id=\"T_06361_level0_col6\" class=\"col_heading level0 col6\" colspan=\"3\">Monetary</th>\n",
              "      <th id=\"T_06361_level0_col9\" class=\"col_heading level0 col9\" colspan=\"3\">Interpurchase_Time</th>\n",
              "    </tr>\n",
              "    <tr>\n",
              "      <th class=\"blank level1\" >&nbsp;</th>\n",
              "      <th id=\"T_06361_level1_col0\" class=\"col_heading level1 col0\" >mean</th>\n",
              "      <th id=\"T_06361_level1_col1\" class=\"col_heading level1 col1\" >min</th>\n",
              "      <th id=\"T_06361_level1_col2\" class=\"col_heading level1 col2\" >max</th>\n",
              "      <th id=\"T_06361_level1_col3\" class=\"col_heading level1 col3\" >mean</th>\n",
              "      <th id=\"T_06361_level1_col4\" class=\"col_heading level1 col4\" >min</th>\n",
              "      <th id=\"T_06361_level1_col5\" class=\"col_heading level1 col5\" >max</th>\n",
              "      <th id=\"T_06361_level1_col6\" class=\"col_heading level1 col6\" >mean</th>\n",
              "      <th id=\"T_06361_level1_col7\" class=\"col_heading level1 col7\" >min</th>\n",
              "      <th id=\"T_06361_level1_col8\" class=\"col_heading level1 col8\" >max</th>\n",
              "      <th id=\"T_06361_level1_col9\" class=\"col_heading level1 col9\" >mean</th>\n",
              "      <th id=\"T_06361_level1_col10\" class=\"col_heading level1 col10\" >min</th>\n",
              "      <th id=\"T_06361_level1_col11\" class=\"col_heading level1 col11\" >max</th>\n",
              "    </tr>\n",
              "    <tr>\n",
              "      <th class=\"index_name level0\" >Clusters</th>\n",
              "      <th class=\"blank col0\" >&nbsp;</th>\n",
              "      <th class=\"blank col1\" >&nbsp;</th>\n",
              "      <th class=\"blank col2\" >&nbsp;</th>\n",
              "      <th class=\"blank col3\" >&nbsp;</th>\n",
              "      <th class=\"blank col4\" >&nbsp;</th>\n",
              "      <th class=\"blank col5\" >&nbsp;</th>\n",
              "      <th class=\"blank col6\" >&nbsp;</th>\n",
              "      <th class=\"blank col7\" >&nbsp;</th>\n",
              "      <th class=\"blank col8\" >&nbsp;</th>\n",
              "      <th class=\"blank col9\" >&nbsp;</th>\n",
              "      <th class=\"blank col10\" >&nbsp;</th>\n",
              "      <th class=\"blank col11\" >&nbsp;</th>\n",
              "    </tr>\n",
              "  </thead>\n",
              "  <tbody>\n",
              "    <tr>\n",
              "      <th id=\"T_06361_level0_row0\" class=\"row_heading level0 row0\" >0</th>\n",
              "      <td id=\"T_06361_row0_col0\" class=\"data row0 col0\" >58.920000</td>\n",
              "      <td id=\"T_06361_row0_col1\" class=\"data row0 col1\" >0</td>\n",
              "      <td id=\"T_06361_row0_col2\" class=\"data row0 col2\" >373</td>\n",
              "      <td id=\"T_06361_row0_col3\" class=\"data row0 col3\" >5.430000</td>\n",
              "      <td id=\"T_06361_row0_col4\" class=\"data row0 col4\" >2</td>\n",
              "      <td id=\"T_06361_row0_col5\" class=\"data row0 col5\" >93</td>\n",
              "      <td id=\"T_06361_row0_col6\" class=\"data row0 col6\" >2003.270000</td>\n",
              "      <td id=\"T_06361_row0_col7\" class=\"data row0 col7\" >6.900000</td>\n",
              "      <td id=\"T_06361_row0_col8\" class=\"data row0 col8\" >21429.390000</td>\n",
              "      <td id=\"T_06361_row0_col9\" class=\"data row0 col9\" >46.480000</td>\n",
              "      <td id=\"T_06361_row0_col10\" class=\"data row0 col10\" >0</td>\n",
              "      <td id=\"T_06361_row0_col11\" class=\"data row0 col11\" >182</td>\n",
              "    </tr>\n",
              "    <tr>\n",
              "      <th id=\"T_06361_level0_row1\" class=\"row_heading level0 row1\" >1</th>\n",
              "      <td id=\"T_06361_row1_col0\" class=\"data row1 col0\" >8.400000</td>\n",
              "      <td id=\"T_06361_row1_col1\" class=\"data row1 col1\" >0</td>\n",
              "      <td id=\"T_06361_row1_col2\" class=\"data row1 col2\" >24</td>\n",
              "      <td id=\"T_06361_row1_col3\" class=\"data row1 col3\" >65.000000</td>\n",
              "      <td id=\"T_06361_row1_col4\" class=\"data row1 col4\" >2</td>\n",
              "      <td id=\"T_06361_row1_col5\" class=\"data row1 col5\" >201</td>\n",
              "      <td id=\"T_06361_row1_col6\" class=\"data row1 col6\" >149739.810000</td>\n",
              "      <td id=\"T_06361_row1_col7\" class=\"data row1 col7\" >117210.080000</td>\n",
              "      <td id=\"T_06361_row1_col8\" class=\"data row1 col8\" >194390.790000</td>\n",
              "      <td id=\"T_06361_row1_col9\" class=\"data row1 col9\" >26.000000</td>\n",
              "      <td id=\"T_06361_row1_col10\" class=\"data row1 col10\" >1</td>\n",
              "      <td id=\"T_06361_row1_col11\" class=\"data row1 col11\" >102</td>\n",
              "    </tr>\n",
              "    <tr>\n",
              "      <th id=\"T_06361_level0_row2\" class=\"row_heading level0 row2\" >2</th>\n",
              "      <td id=\"T_06361_row2_col0\" class=\"data row2 col0\" >20.200000</td>\n",
              "      <td id=\"T_06361_row2_col1\" class=\"data row2 col1\" >0</td>\n",
              "      <td id=\"T_06361_row2_col2\" class=\"data row2 col2\" >235</td>\n",
              "      <td id=\"T_06361_row2_col3\" class=\"data row2 col3\" >44.200000</td>\n",
              "      <td id=\"T_06361_row2_col4\" class=\"data row2 col4\" >3</td>\n",
              "      <td id=\"T_06361_row2_col5\" class=\"data row2 col5\" >210</td>\n",
              "      <td id=\"T_06361_row2_col6\" class=\"data row2 col6\" >45316.290000</td>\n",
              "      <td id=\"T_06361_row2_col7\" class=\"data row2 col7\" >25977.160000</td>\n",
              "      <td id=\"T_06361_row2_col8\" class=\"data row2 col8\" >91062.380000</td>\n",
              "      <td id=\"T_06361_row2_col9\" class=\"data row2 col9\" >11.370000</td>\n",
              "      <td id=\"T_06361_row2_col10\" class=\"data row2 col10\" >0</td>\n",
              "      <td id=\"T_06361_row2_col11\" class=\"data row2 col11\" >32</td>\n",
              "    </tr>\n",
              "    <tr>\n",
              "      <th id=\"T_06361_level0_row3\" class=\"row_heading level0 row3\" >3</th>\n",
              "      <td id=\"T_06361_row3_col0\" class=\"data row3 col0\" >0.500000</td>\n",
              "      <td id=\"T_06361_row3_col1\" class=\"data row3 col1\" >0</td>\n",
              "      <td id=\"T_06361_row3_col2\" class=\"data row3 col2\" >1</td>\n",
              "      <td id=\"T_06361_row3_col3\" class=\"data row3 col3\" >67.000000</td>\n",
              "      <td id=\"T_06361_row3_col4\" class=\"data row3 col4\" >60</td>\n",
              "      <td id=\"T_06361_row3_col5\" class=\"data row3 col5\" >74</td>\n",
              "      <td id=\"T_06361_row3_col6\" class=\"data row3 col6\" >269931.660000</td>\n",
              "      <td id=\"T_06361_row3_col7\" class=\"data row3 col7\" >259657.300000</td>\n",
              "      <td id=\"T_06361_row3_col8\" class=\"data row3 col8\" >280206.020000</td>\n",
              "      <td id=\"T_06361_row3_col9\" class=\"data row3 col9\" >5.000000</td>\n",
              "      <td id=\"T_06361_row3_col10\" class=\"data row3 col10\" >4</td>\n",
              "      <td id=\"T_06361_row3_col11\" class=\"data row3 col11\" >6</td>\n",
              "    </tr>\n",
              "  </tbody>\n",
              "</table>\n"
            ]
          },
          "metadata": {},
          "execution_count": 23
        }
      ]
    },
    {
      "cell_type": "code",
      "source": [
        "RFMT.groupby('Clusters').size().reset_index(name = 'Count').style.set_properties(**{\"background-color\": \"#cd5c5c\",\"color\": \"black\", \"border-color\": \"black\"})"
      ],
      "metadata": {
        "colab": {
          "base_uri": "https://localhost:8080/",
          "height": 175
        },
        "id": "5hW_i9dIbYD0",
        "outputId": "44b2b6b4-c7f0-46c6-a998-3e650403acba"
      },
      "execution_count": null,
      "outputs": [
        {
          "output_type": "execute_result",
          "data": {
            "text/plain": [
              "<pandas.io.formats.style.Styler at 0x7904a72384c0>"
            ],
            "text/html": [
              "<style type=\"text/css\">\n",
              "#T_9136d_row0_col0, #T_9136d_row0_col1, #T_9136d_row1_col0, #T_9136d_row1_col1, #T_9136d_row2_col0, #T_9136d_row2_col1, #T_9136d_row3_col0, #T_9136d_row3_col1 {\n",
              "  background-color: #cd5c5c;\n",
              "  color: black;\n",
              "  border-color: black;\n",
              "}\n",
              "</style>\n",
              "<table id=\"T_9136d\" class=\"dataframe\">\n",
              "  <thead>\n",
              "    <tr>\n",
              "      <th class=\"blank level0\" >&nbsp;</th>\n",
              "      <th id=\"T_9136d_level0_col0\" class=\"col_heading level0 col0\" >Clusters</th>\n",
              "      <th id=\"T_9136d_level0_col1\" class=\"col_heading level0 col1\" >Count</th>\n",
              "    </tr>\n",
              "  </thead>\n",
              "  <tbody>\n",
              "    <tr>\n",
              "      <th id=\"T_9136d_level0_row0\" class=\"row_heading level0 row0\" >0</th>\n",
              "      <td id=\"T_9136d_row0_col0\" class=\"data row0 col0\" >0</td>\n",
              "      <td id=\"T_9136d_row0_col1\" class=\"data row0 col1\" >2808</td>\n",
              "    </tr>\n",
              "    <tr>\n",
              "      <th id=\"T_9136d_level0_row1\" class=\"row_heading level0 row1\" >1</th>\n",
              "      <td id=\"T_9136d_row1_col0\" class=\"data row1 col0\" >1</td>\n",
              "      <td id=\"T_9136d_row1_col1\" class=\"data row1 col1\" >5</td>\n",
              "    </tr>\n",
              "    <tr>\n",
              "      <th id=\"T_9136d_level0_row2\" class=\"row_heading level0 row2\" >2</th>\n",
              "      <td id=\"T_9136d_row2_col0\" class=\"data row2 col0\" >2</td>\n",
              "      <td id=\"T_9136d_row2_col1\" class=\"data row2 col1\" >30</td>\n",
              "    </tr>\n",
              "    <tr>\n",
              "      <th id=\"T_9136d_level0_row3\" class=\"row_heading level0 row3\" >3</th>\n",
              "      <td id=\"T_9136d_row3_col0\" class=\"data row3 col0\" >3</td>\n",
              "      <td id=\"T_9136d_row3_col1\" class=\"data row3 col1\" >2</td>\n",
              "    </tr>\n",
              "  </tbody>\n",
              "</table>\n"
            ]
          },
          "metadata": {},
          "execution_count": 24
        }
      ]
    },
    {
      "cell_type": "code",
      "source": [
        "## Đăc điểm trung bình của các nhóm\n",
        "RFMT.groupby('Clusters').mean().style.set_properties(**{\"background-color\": \"#cd5c5c\",\"color\": \"black\", \"border-color\": \"black\"})"
      ],
      "metadata": {
        "colab": {
          "base_uri": "https://localhost:8080/",
          "height": 206
        },
        "id": "D22NQNFRbqdO",
        "outputId": "97e519e5-945f-4427-9bae-4211504f02d7"
      },
      "execution_count": null,
      "outputs": [
        {
          "output_type": "execute_result",
          "data": {
            "text/plain": [
              "<pandas.io.formats.style.Styler at 0x7904a7238520>"
            ],
            "text/html": [
              "<style type=\"text/css\">\n",
              "#T_a5611_row0_col0, #T_a5611_row0_col1, #T_a5611_row0_col2, #T_a5611_row0_col3, #T_a5611_row1_col0, #T_a5611_row1_col1, #T_a5611_row1_col2, #T_a5611_row1_col3, #T_a5611_row2_col0, #T_a5611_row2_col1, #T_a5611_row2_col2, #T_a5611_row2_col3, #T_a5611_row3_col0, #T_a5611_row3_col1, #T_a5611_row3_col2, #T_a5611_row3_col3 {\n",
              "  background-color: #cd5c5c;\n",
              "  color: black;\n",
              "  border-color: black;\n",
              "}\n",
              "</style>\n",
              "<table id=\"T_a5611\" class=\"dataframe\">\n",
              "  <thead>\n",
              "    <tr>\n",
              "      <th class=\"blank level0\" >&nbsp;</th>\n",
              "      <th id=\"T_a5611_level0_col0\" class=\"col_heading level0 col0\" >Recency</th>\n",
              "      <th id=\"T_a5611_level0_col1\" class=\"col_heading level0 col1\" >Frequency</th>\n",
              "      <th id=\"T_a5611_level0_col2\" class=\"col_heading level0 col2\" >Monetary</th>\n",
              "      <th id=\"T_a5611_level0_col3\" class=\"col_heading level0 col3\" >Interpurchase_Time</th>\n",
              "    </tr>\n",
              "    <tr>\n",
              "      <th class=\"index_name level0\" >Clusters</th>\n",
              "      <th class=\"blank col0\" >&nbsp;</th>\n",
              "      <th class=\"blank col1\" >&nbsp;</th>\n",
              "      <th class=\"blank col2\" >&nbsp;</th>\n",
              "      <th class=\"blank col3\" >&nbsp;</th>\n",
              "    </tr>\n",
              "  </thead>\n",
              "  <tbody>\n",
              "    <tr>\n",
              "      <th id=\"T_a5611_level0_row0\" class=\"row_heading level0 row0\" >0</th>\n",
              "      <td id=\"T_a5611_row0_col0\" class=\"data row0 col0\" >58.924501</td>\n",
              "      <td id=\"T_a5611_row0_col1\" class=\"data row0 col1\" >5.433405</td>\n",
              "      <td id=\"T_a5611_row0_col2\" class=\"data row0 col2\" >2003.265058</td>\n",
              "      <td id=\"T_a5611_row0_col3\" class=\"data row0 col3\" >46.475427</td>\n",
              "    </tr>\n",
              "    <tr>\n",
              "      <th id=\"T_a5611_level0_row1\" class=\"row_heading level0 row1\" >1</th>\n",
              "      <td id=\"T_a5611_row1_col0\" class=\"data row1 col0\" >8.400000</td>\n",
              "      <td id=\"T_a5611_row1_col1\" class=\"data row1 col1\" >65.000000</td>\n",
              "      <td id=\"T_a5611_row1_col2\" class=\"data row1 col2\" >149739.814000</td>\n",
              "      <td id=\"T_a5611_row1_col3\" class=\"data row1 col3\" >26.000000</td>\n",
              "    </tr>\n",
              "    <tr>\n",
              "      <th id=\"T_a5611_level0_row2\" class=\"row_heading level0 row2\" >2</th>\n",
              "      <td id=\"T_a5611_row2_col0\" class=\"data row2 col0\" >20.200000</td>\n",
              "      <td id=\"T_a5611_row2_col1\" class=\"data row2 col1\" >44.200000</td>\n",
              "      <td id=\"T_a5611_row2_col2\" class=\"data row2 col2\" >45316.288667</td>\n",
              "      <td id=\"T_a5611_row2_col3\" class=\"data row2 col3\" >11.366667</td>\n",
              "    </tr>\n",
              "    <tr>\n",
              "      <th id=\"T_a5611_level0_row3\" class=\"row_heading level0 row3\" >3</th>\n",
              "      <td id=\"T_a5611_row3_col0\" class=\"data row3 col0\" >0.500000</td>\n",
              "      <td id=\"T_a5611_row3_col1\" class=\"data row3 col1\" >67.000000</td>\n",
              "      <td id=\"T_a5611_row3_col2\" class=\"data row3 col2\" >269931.660000</td>\n",
              "      <td id=\"T_a5611_row3_col3\" class=\"data row3 col3\" >5.000000</td>\n",
              "    </tr>\n",
              "  </tbody>\n",
              "</table>\n"
            ]
          },
          "metadata": {},
          "execution_count": 25
        }
      ]
    },
    {
      "cell_type": "code",
      "source": [
        "mapping = {0: 'Need attention', 1: ' Champions', 2: 'Potential Loyalist', 3: 'Promising'}\n",
        "\n",
        "RFMT['segment'] = RFMT['Clusters'].map(mapping)\n"
      ],
      "metadata": {
        "id": "ZQoN8Hyxcij1"
      },
      "execution_count": null,
      "outputs": []
    },
    {
      "cell_type": "code",
      "source": [
        "RFMT.head().style.set_properties(**{\"background-color\": \"#cd5c5c\",\"color\": \"black\", \"border-color\": \"black\"})"
      ],
      "metadata": {
        "colab": {
          "base_uri": "https://localhost:8080/",
          "height": 238
        },
        "id": "6lUjU43DdbCE",
        "outputId": "db71f62a-e94e-428f-e3bb-5908b5631808"
      },
      "execution_count": null,
      "outputs": [
        {
          "output_type": "execute_result",
          "data": {
            "text/plain": [
              "<pandas.io.formats.style.Styler at 0x7904a72218a0>"
            ],
            "text/html": [
              "<style type=\"text/css\">\n",
              "#T_1b8ef_row0_col0, #T_1b8ef_row0_col1, #T_1b8ef_row0_col2, #T_1b8ef_row0_col3, #T_1b8ef_row0_col4, #T_1b8ef_row0_col5, #T_1b8ef_row1_col0, #T_1b8ef_row1_col1, #T_1b8ef_row1_col2, #T_1b8ef_row1_col3, #T_1b8ef_row1_col4, #T_1b8ef_row1_col5, #T_1b8ef_row2_col0, #T_1b8ef_row2_col1, #T_1b8ef_row2_col2, #T_1b8ef_row2_col3, #T_1b8ef_row2_col4, #T_1b8ef_row2_col5, #T_1b8ef_row3_col0, #T_1b8ef_row3_col1, #T_1b8ef_row3_col2, #T_1b8ef_row3_col3, #T_1b8ef_row3_col4, #T_1b8ef_row3_col5, #T_1b8ef_row4_col0, #T_1b8ef_row4_col1, #T_1b8ef_row4_col2, #T_1b8ef_row4_col3, #T_1b8ef_row4_col4, #T_1b8ef_row4_col5 {\n",
              "  background-color: #cd5c5c;\n",
              "  color: black;\n",
              "  border-color: black;\n",
              "}\n",
              "</style>\n",
              "<table id=\"T_1b8ef\" class=\"dataframe\">\n",
              "  <thead>\n",
              "    <tr>\n",
              "      <th class=\"blank level0\" >&nbsp;</th>\n",
              "      <th id=\"T_1b8ef_level0_col0\" class=\"col_heading level0 col0\" >Recency</th>\n",
              "      <th id=\"T_1b8ef_level0_col1\" class=\"col_heading level0 col1\" >Frequency</th>\n",
              "      <th id=\"T_1b8ef_level0_col2\" class=\"col_heading level0 col2\" >Monetary</th>\n",
              "      <th id=\"T_1b8ef_level0_col3\" class=\"col_heading level0 col3\" >Interpurchase_Time</th>\n",
              "      <th id=\"T_1b8ef_level0_col4\" class=\"col_heading level0 col4\" >Clusters</th>\n",
              "      <th id=\"T_1b8ef_level0_col5\" class=\"col_heading level0 col5\" >segment</th>\n",
              "    </tr>\n",
              "    <tr>\n",
              "      <th class=\"index_name level0\" >CustomerID</th>\n",
              "      <th class=\"blank col0\" >&nbsp;</th>\n",
              "      <th class=\"blank col1\" >&nbsp;</th>\n",
              "      <th class=\"blank col2\" >&nbsp;</th>\n",
              "      <th class=\"blank col3\" >&nbsp;</th>\n",
              "      <th class=\"blank col4\" >&nbsp;</th>\n",
              "      <th class=\"blank col5\" >&nbsp;</th>\n",
              "    </tr>\n",
              "  </thead>\n",
              "  <tbody>\n",
              "    <tr>\n",
              "      <th id=\"T_1b8ef_level0_row0\" class=\"row_heading level0 row0\" >12347.000000</th>\n",
              "      <td id=\"T_1b8ef_row0_col0\" class=\"data row0 col0\" >2</td>\n",
              "      <td id=\"T_1b8ef_row0_col1\" class=\"data row0 col1\" >7</td>\n",
              "      <td id=\"T_1b8ef_row0_col2\" class=\"data row0 col2\" >4310.000000</td>\n",
              "      <td id=\"T_1b8ef_row0_col3\" class=\"data row0 col3\" >52</td>\n",
              "      <td id=\"T_1b8ef_row0_col4\" class=\"data row0 col4\" >0</td>\n",
              "      <td id=\"T_1b8ef_row0_col5\" class=\"data row0 col5\" >Need attention</td>\n",
              "    </tr>\n",
              "    <tr>\n",
              "      <th id=\"T_1b8ef_level0_row1\" class=\"row_heading level0 row1\" >12348.000000</th>\n",
              "      <td id=\"T_1b8ef_row1_col0\" class=\"data row1 col0\" >75</td>\n",
              "      <td id=\"T_1b8ef_row1_col1\" class=\"data row1 col1\" >4</td>\n",
              "      <td id=\"T_1b8ef_row1_col2\" class=\"data row1 col2\" >1797.240000</td>\n",
              "      <td id=\"T_1b8ef_row1_col3\" class=\"data row1 col3\" >70</td>\n",
              "      <td id=\"T_1b8ef_row1_col4\" class=\"data row1 col4\" >0</td>\n",
              "      <td id=\"T_1b8ef_row1_col5\" class=\"data row1 col5\" >Need attention</td>\n",
              "    </tr>\n",
              "    <tr>\n",
              "      <th id=\"T_1b8ef_level0_row2\" class=\"row_heading level0 row2\" >12352.000000</th>\n",
              "      <td id=\"T_1b8ef_row2_col0\" class=\"data row2 col0\" >36</td>\n",
              "      <td id=\"T_1b8ef_row2_col1\" class=\"data row2 col1\" >8</td>\n",
              "      <td id=\"T_1b8ef_row2_col2\" class=\"data row2 col2\" >2506.040000</td>\n",
              "      <td id=\"T_1b8ef_row2_col3\" class=\"data row2 col3\" >32</td>\n",
              "      <td id=\"T_1b8ef_row2_col4\" class=\"data row2 col4\" >0</td>\n",
              "      <td id=\"T_1b8ef_row2_col5\" class=\"data row2 col5\" >Need attention</td>\n",
              "    </tr>\n",
              "    <tr>\n",
              "      <th id=\"T_1b8ef_level0_row3\" class=\"row_heading level0 row3\" >12356.000000</th>\n",
              "      <td id=\"T_1b8ef_row3_col0\" class=\"data row3 col0\" >22</td>\n",
              "      <td id=\"T_1b8ef_row3_col1\" class=\"data row3 col1\" >3</td>\n",
              "      <td id=\"T_1b8ef_row3_col2\" class=\"data row3 col2\" >2811.430000</td>\n",
              "      <td id=\"T_1b8ef_row3_col3\" class=\"data row3 col3\" >100</td>\n",
              "      <td id=\"T_1b8ef_row3_col4\" class=\"data row3 col4\" >0</td>\n",
              "      <td id=\"T_1b8ef_row3_col5\" class=\"data row3 col5\" >Need attention</td>\n",
              "    </tr>\n",
              "    <tr>\n",
              "      <th id=\"T_1b8ef_level0_row4\" class=\"row_heading level0 row4\" >12358.000000</th>\n",
              "      <td id=\"T_1b8ef_row4_col0\" class=\"data row4 col0\" >1</td>\n",
              "      <td id=\"T_1b8ef_row4_col1\" class=\"data row4 col1\" >2</td>\n",
              "      <td id=\"T_1b8ef_row4_col2\" class=\"data row4 col2\" >1168.060000</td>\n",
              "      <td id=\"T_1b8ef_row4_col3\" class=\"data row4 col3\" >74</td>\n",
              "      <td id=\"T_1b8ef_row4_col4\" class=\"data row4 col4\" >0</td>\n",
              "      <td id=\"T_1b8ef_row4_col5\" class=\"data row4 col5\" >Need attention</td>\n",
              "    </tr>\n",
              "  </tbody>\n",
              "</table>\n"
            ]
          },
          "metadata": {},
          "execution_count": 31
        }
      ]
    },
    {
      "cell_type": "code",
      "source": [
        "RFMT.columns"
      ],
      "metadata": {
        "colab": {
          "base_uri": "https://localhost:8080/"
        },
        "id": "jvn0cuHqbT03",
        "outputId": "c850b4a4-b0b4-4332-fab2-af18171f3465"
      },
      "execution_count": null,
      "outputs": [
        {
          "output_type": "execute_result",
          "data": {
            "text/plain": [
              "Index(['Recency', 'Frequency', 'Monetary', 'Interpurchase_Time', 'Clusters',\n",
              "       'segment'],\n",
              "      dtype='object')"
            ]
          },
          "metadata": {},
          "execution_count": 30
        }
      ]
    },
    {
      "cell_type": "code",
      "source": [
        "!pip install squarify\n"
      ],
      "metadata": {
        "colab": {
          "base_uri": "https://localhost:8080/"
        },
        "id": "fm-3Hj9sdxbF",
        "outputId": "ceb54f8a-b505-47a5-81b4-6b0fa28f6b41"
      },
      "execution_count": null,
      "outputs": [
        {
          "output_type": "stream",
          "name": "stdout",
          "text": [
            "Collecting squarify\n",
            "  Downloading squarify-0.4.3-py3-none-any.whl (4.3 kB)\n",
            "Installing collected packages: squarify\n",
            "Successfully installed squarify-0.4.3\n"
          ]
        }
      ]
    },
    {
      "cell_type": "code",
      "source": [
        "import squarify\n",
        "# Nhóm dữ liệu theo 'segment'\n",
        "grouped_df = RFMT.groupby('segment')['Monetary'].sum().reset_index()\n",
        "\n",
        "# Tạo một biểu đồ treemap\n",
        "plt.figure(figsize=(10, 6))\n",
        "colors = sns.color_palette(\"Reds_r\", n_colors=4)\n",
        "squarify.plot(sizes=grouped_df['Monetary'], label=grouped_df['segment'], alpha=0.6, color=colors)\n",
        "\n",
        "# Đặt tiêu đề\n",
        "plt.title(\"Biểu đồ Treemap cho RFMT theo Segment\")\n",
        "\n",
        "# Hiển thị biểu đồ\n",
        "plt.axis('off')\n",
        "plt.show()"
      ],
      "metadata": {
        "colab": {
          "base_uri": "https://localhost:8080/",
          "height": 608
        },
        "id": "TTp5OGgvdfSh",
        "outputId": "7af28b91-d9c5-43bc-fb12-3eb790f9597d"
      },
      "execution_count": null,
      "outputs": [
        {
          "output_type": "stream",
          "name": "stderr",
          "text": [
            "/usr/local/lib/python3.10/dist-packages/IPython/core/pylabtools.py:151: UserWarning: Glyph 7875 (\\N{LATIN SMALL LETTER E WITH CIRCUMFLEX AND HOOK ABOVE}) missing from current font.\n",
            "  fig.canvas.print_figure(bytes_io, **kw)\n",
            "/usr/local/lib/python3.10/dist-packages/IPython/core/pylabtools.py:151: UserWarning: Glyph 7891 (\\N{LATIN SMALL LETTER O WITH CIRCUMFLEX AND GRAVE}) missing from current font.\n",
            "  fig.canvas.print_figure(bytes_io, **kw)\n"
          ]
        },
        {
          "output_type": "display_data",
          "data": {
            "text/plain": [
              "<Figure size 1000x600 with 1 Axes>"
            ],
            "image/png": "[encoded data removed]"
          },
          "metadata": {}
        }
      ]
    },
    {
      "cell_type": "code",
      "source": [
        "data['InvoiceDate'] = pd.to_datetime(data['InvoiceDate'])\n",
        "data['Weekday'] = data['InvoiceDate'].dt.dayofweek\n",
        "weekday_sales = data.groupby('Weekday').agg({'Quantity': 'sum'})\n",
        "\n",
        "# trực quan doanh thu theo tuần sử dụng biểu đồ cột đứng\n",
        "colors = plt.cm.Reds(np.linspace(0.2, 1, len(monthly_sales)))\n",
        "fig, ax = plt.subplots()\n",
        "ax.bar(range(6), weekday_sales['Quantity'], color=colors)\n",
        "ax.set_xlabel('Day of the Week')\n",
        "ax.set_ylabel('Sales')\n",
        "ax.set_title('Weekly Sales')\n",
        "ax.set_xticks(range(6))\n",
        "ax.set_xticklabels(['Monday', 'Tuesday', 'Wednesday', 'Thursday', 'Friday', 'Sunday'])\n",
        "\n",
        "plt.show()\n"
      ],
      "metadata": {
        "colab": {
          "base_uri": "https://localhost:8080/",
          "height": 524
        },
        "id": "EysFkfplffqG",
        "outputId": "83dc564c-9284-4cbf-ff54-1bdb78748e06"
      },
      "execution_count": null,
      "outputs": [
        {
          "output_type": "display_data",
          "data": {
            "text/plain": [
              "<Figure size 800x550 with 1 Axes>"
            ],
            "image/png": "[encoded data removed]"
          },
          "metadata": {}
        }
      ]
    },
    {
      "cell_type": "code",
      "source": [
        "data['InvoiceDate'] = pd.to_datetime(data['InvoiceDate'])\n",
        "data['Month'] = data['InvoiceDate'].dt.month\n",
        "monthly_sales = data.groupby('Month').agg({'Quantity': 'sum'})\n",
        "\n",
        "# Trực quan doanh thu theo tháng sử dụng biểu đồ cột đứng.\n",
        "months = ['January', 'February', 'March', 'April', 'May', 'June', 'July', 'August', 'September', 'October', 'November', 'December']\n",
        "\n",
        "# Tạo một gradient màu đỏ từ nhạt đến đậm\n",
        "colors = plt.cm.Reds(np.linspace(0.2, 1, len(monthly_sales)))\n",
        "\n",
        "fig, ax = plt.subplots()\n",
        "ax.bar(monthly_sales.index, monthly_sales['Quantity'], color=colors)\n",
        "ax.set_xlabel('Month')\n",
        "ax.set_ylabel('Sales')\n",
        "ax.set_title('Monthly Sales')\n",
        "ax.set_xticks(monthly_sales.index)\n",
        "ax.set_xticklabels(months, rotation=45)\n",
        "plt.xticks(monthly_sales.index, months)\n",
        "plt.show()"
      ],
      "metadata": {
        "colab": {
          "base_uri": "https://localhost:8080/",
          "height": 568
        },
        "id": "G1FHsLtpu-CR",
        "outputId": "582a9aec-22bf-4b26-e8a3-c497d0a60869"
      },
      "execution_count": null,
      "outputs": [
        {
          "output_type": "display_data",
          "data": {
            "text/plain": [
              "<Figure size 800x550 with 1 Axes>"
            ],
            "image/png": "[encoded data removed]"
          },
          "metadata": {}
        }
      ]
    },
    {
      "cell_type": "code",
      "source": [
        "data['Revenue'] = data.groupby('InvoiceNo')['Quantity'].transform(lambda x: x * data.groupby('InvoiceNo')['UnitPrice'].transform('sum'))\n",
        "data['Revenue']"
      ],
      "metadata": {
        "colab": {
          "base_uri": "https://localhost:8080/"
        },
        "id": "FRr9TEL1z1cu",
        "outputId": "848017ae-5661-44ba-c88c-2aa6710add3e"
      },
      "execution_count": null,
      "outputs": [
        {
          "output_type": "execute_result",
          "data": {
            "text/plain": [
              "0         164.22\n",
              "1         164.22\n",
              "2         218.96\n",
              "3         164.22\n",
              "4         164.22\n",
              "           ...  \n",
              "541904    534.00\n",
              "541905    267.00\n",
              "541906    178.00\n",
              "541907    178.00\n",
              "541908    133.50\n",
              "Name: Revenue, Length: 392732, dtype: float64"
            ]
          },
          "metadata": {},
          "execution_count": 51
        }
      ]
    },
    {
      "cell_type": "markdown",
      "source": [
        "Silhouette Coefficient or silhouette score  là số liệu được sử dụng để tính toán mức độ tốt của kỹ thuật phân cụm. Giá trị của nó nằm trong khoảng từ -1 đến 1. Điểm càng gần 1 thì cụm được phân biệt càng cao"
      ],
      "metadata": {
        "id": "oVv3ej6sIjS1"
      }
    },
    {
      "cell_type": "code",
      "source": [
        "from sklearn.metrics import silhouette_score\n",
        "\n",
        "# Loại bỏ cột 'segment' từ bảng RFMT\n",
        "RFMT_without_segment = RFMT.drop(columns=['segment'])\n",
        "\n",
        "# Tính silhouette score\n",
        "silhouette_score_value = silhouette_score(RFMT_without_segment, kmeans.labels_, metric='euclidean')\n",
        "print(\"Silhouette score:\", silhouette_score_value)"
      ],
      "metadata": {
        "colab": {
          "base_uri": "https://localhost:8080/"
        },
        "id": "G6_h_sCSImNG",
        "outputId": "9dda196d-8052-4e38-d90e-88e5d75fade9"
      },
      "execution_count": null,
      "outputs": [
        {
          "output_type": "stream",
          "name": "stdout",
          "text": [
            "Silhouette score: 0.9414009464343936\n"
          ]
        }
      ]
    },
    {
      "cell_type": "code",
      "source": [
        "\n",
        "merged_data = pd.merge(data, RFMT, on='CustomerID', how='inner')\n",
        "\n",
        "merged_data.head(3).style.set_properties(**{\"background-color\": \"#cd5c5c\",\"color\": \"black\", \"border-color\": \"black\"})\n"
      ],
      "metadata": {
        "colab": {
          "base_uri": "https://localhost:8080/",
          "height": 337
        },
        "id": "zwxeYaXLgwFO",
        "outputId": "d4ee130d-f1e5-4600-b837-81511ee60c2b"
      },
      "execution_count": null,
      "outputs": [
        {
          "output_type": "execute_result",
          "data": {
            "text/plain": [
              "<pandas.io.formats.style.Styler at 0x7f29f36dd2a0>"
            ],
            "text/html": [
              "<style type=\"text/css\">\n",
              "#T_657ff_row0_col0, #T_657ff_row0_col1, #T_657ff_row0_col2, #T_657ff_row0_col3, #T_657ff_row0_col4, #T_657ff_row0_col5, #T_657ff_row0_col6, #T_657ff_row0_col7, #T_657ff_row0_col8, #T_657ff_row0_col9, #T_657ff_row0_col10, #T_657ff_row0_col11, #T_657ff_row0_col12, #T_657ff_row0_col13, #T_657ff_row0_col14, #T_657ff_row1_col0, #T_657ff_row1_col1, #T_657ff_row1_col2, #T_657ff_row1_col3, #T_657ff_row1_col4, #T_657ff_row1_col5, #T_657ff_row1_col6, #T_657ff_row1_col7, #T_657ff_row1_col8, #T_657ff_row1_col9, #T_657ff_row1_col10, #T_657ff_row1_col11, #T_657ff_row1_col12, #T_657ff_row1_col13, #T_657ff_row1_col14, #T_657ff_row2_col0, #T_657ff_row2_col1, #T_657ff_row2_col2, #T_657ff_row2_col3, #T_657ff_row2_col4, #T_657ff_row2_col5, #T_657ff_row2_col6, #T_657ff_row2_col7, #T_657ff_row2_col8, #T_657ff_row2_col9, #T_657ff_row2_col10, #T_657ff_row2_col11, #T_657ff_row2_col12, #T_657ff_row2_col13, #T_657ff_row2_col14 {\n",
              "  background-color: #cd5c5c;\n",
              "  color: black;\n",
              "  border-color: black;\n",
              "}\n",
              "</style>\n",
              "<table id=\"T_657ff\" class=\"dataframe\">\n",
              "  <thead>\n",
              "    <tr>\n",
              "      <th class=\"blank level0\" >&nbsp;</th>\n",
              "      <th id=\"T_657ff_level0_col0\" class=\"col_heading level0 col0\" >InvoiceNo</th>\n",
              "      <th id=\"T_657ff_level0_col1\" class=\"col_heading level0 col1\" >StockCode</th>\n",
              "      <th id=\"T_657ff_level0_col2\" class=\"col_heading level0 col2\" >Description</th>\n",
              "      <th id=\"T_657ff_level0_col3\" class=\"col_heading level0 col3\" >Quantity</th>\n",
              "      <th id=\"T_657ff_level0_col4\" class=\"col_heading level0 col4\" >InvoiceDate</th>\n",
              "      <th id=\"T_657ff_level0_col5\" class=\"col_heading level0 col5\" >UnitPrice</th>\n",
              "      <th id=\"T_657ff_level0_col6\" class=\"col_heading level0 col6\" >CustomerID</th>\n",
              "      <th id=\"T_657ff_level0_col7\" class=\"col_heading level0 col7\" >Country</th>\n",
              "      <th id=\"T_657ff_level0_col8\" class=\"col_heading level0 col8\" >Revenue</th>\n",
              "      <th id=\"T_657ff_level0_col9\" class=\"col_heading level0 col9\" >Recency</th>\n",
              "      <th id=\"T_657ff_level0_col10\" class=\"col_heading level0 col10\" >Frequency</th>\n",
              "      <th id=\"T_657ff_level0_col11\" class=\"col_heading level0 col11\" >Monetary</th>\n",
              "      <th id=\"T_657ff_level0_col12\" class=\"col_heading level0 col12\" >Interpurchase_Time</th>\n",
              "      <th id=\"T_657ff_level0_col13\" class=\"col_heading level0 col13\" >Clusters</th>\n",
              "      <th id=\"T_657ff_level0_col14\" class=\"col_heading level0 col14\" >segment</th>\n",
              "    </tr>\n",
              "  </thead>\n",
              "  <tbody>\n",
              "    <tr>\n",
              "      <th id=\"T_657ff_level0_row0\" class=\"row_heading level0 row0\" >0</th>\n",
              "      <td id=\"T_657ff_row0_col0\" class=\"data row0 col0\" >536365</td>\n",
              "      <td id=\"T_657ff_row0_col1\" class=\"data row0 col1\" >85123A</td>\n",
              "      <td id=\"T_657ff_row0_col2\" class=\"data row0 col2\" >WHITE HANGING HEART T-LIGHT HOLDER</td>\n",
              "      <td id=\"T_657ff_row0_col3\" class=\"data row0 col3\" >6</td>\n",
              "      <td id=\"T_657ff_row0_col4\" class=\"data row0 col4\" >2010-12-01 08:26:00</td>\n",
              "      <td id=\"T_657ff_row0_col5\" class=\"data row0 col5\" >2.550000</td>\n",
              "      <td id=\"T_657ff_row0_col6\" class=\"data row0 col6\" >17850.000000</td>\n",
              "      <td id=\"T_657ff_row0_col7\" class=\"data row0 col7\" >United Kingdom</td>\n",
              "      <td id=\"T_657ff_row0_col8\" class=\"data row0 col8\" >15.300000</td>\n",
              "      <td id=\"T_657ff_row0_col9\" class=\"data row0 col9\" >372</td>\n",
              "      <td id=\"T_657ff_row0_col10\" class=\"data row0 col10\" >34</td>\n",
              "      <td id=\"T_657ff_row0_col11\" class=\"data row0 col11\" >5391.210000</td>\n",
              "      <td id=\"T_657ff_row0_col12\" class=\"data row0 col12\" >0</td>\n",
              "      <td id=\"T_657ff_row0_col13\" class=\"data row0 col13\" >0</td>\n",
              "      <td id=\"T_657ff_row0_col14\" class=\"data row0 col14\" >Hibernating Customer</td>\n",
              "    </tr>\n",
              "    <tr>\n",
              "      <th id=\"T_657ff_level0_row1\" class=\"row_heading level0 row1\" >1</th>\n",
              "      <td id=\"T_657ff_row1_col0\" class=\"data row1 col0\" >536365</td>\n",
              "      <td id=\"T_657ff_row1_col1\" class=\"data row1 col1\" >71053</td>\n",
              "      <td id=\"T_657ff_row1_col2\" class=\"data row1 col2\" >WHITE METAL LANTERN</td>\n",
              "      <td id=\"T_657ff_row1_col3\" class=\"data row1 col3\" >6</td>\n",
              "      <td id=\"T_657ff_row1_col4\" class=\"data row1 col4\" >2010-12-01 08:26:00</td>\n",
              "      <td id=\"T_657ff_row1_col5\" class=\"data row1 col5\" >3.390000</td>\n",
              "      <td id=\"T_657ff_row1_col6\" class=\"data row1 col6\" >17850.000000</td>\n",
              "      <td id=\"T_657ff_row1_col7\" class=\"data row1 col7\" >United Kingdom</td>\n",
              "      <td id=\"T_657ff_row1_col8\" class=\"data row1 col8\" >20.340000</td>\n",
              "      <td id=\"T_657ff_row1_col9\" class=\"data row1 col9\" >372</td>\n",
              "      <td id=\"T_657ff_row1_col10\" class=\"data row1 col10\" >34</td>\n",
              "      <td id=\"T_657ff_row1_col11\" class=\"data row1 col11\" >5391.210000</td>\n",
              "      <td id=\"T_657ff_row1_col12\" class=\"data row1 col12\" >0</td>\n",
              "      <td id=\"T_657ff_row1_col13\" class=\"data row1 col13\" >0</td>\n",
              "      <td id=\"T_657ff_row1_col14\" class=\"data row1 col14\" >Hibernating Customer</td>\n",
              "    </tr>\n",
              "    <tr>\n",
              "      <th id=\"T_657ff_level0_row2\" class=\"row_heading level0 row2\" >2</th>\n",
              "      <td id=\"T_657ff_row2_col0\" class=\"data row2 col0\" >536365</td>\n",
              "      <td id=\"T_657ff_row2_col1\" class=\"data row2 col1\" >84406B</td>\n",
              "      <td id=\"T_657ff_row2_col2\" class=\"data row2 col2\" >CREAM CUPID HEARTS COAT HANGER</td>\n",
              "      <td id=\"T_657ff_row2_col3\" class=\"data row2 col3\" >8</td>\n",
              "      <td id=\"T_657ff_row2_col4\" class=\"data row2 col4\" >2010-12-01 08:26:00</td>\n",
              "      <td id=\"T_657ff_row2_col5\" class=\"data row2 col5\" >2.750000</td>\n",
              "      <td id=\"T_657ff_row2_col6\" class=\"data row2 col6\" >17850.000000</td>\n",
              "      <td id=\"T_657ff_row2_col7\" class=\"data row2 col7\" >United Kingdom</td>\n",
              "      <td id=\"T_657ff_row2_col8\" class=\"data row2 col8\" >22.000000</td>\n",
              "      <td id=\"T_657ff_row2_col9\" class=\"data row2 col9\" >372</td>\n",
              "      <td id=\"T_657ff_row2_col10\" class=\"data row2 col10\" >34</td>\n",
              "      <td id=\"T_657ff_row2_col11\" class=\"data row2 col11\" >5391.210000</td>\n",
              "      <td id=\"T_657ff_row2_col12\" class=\"data row2 col12\" >0</td>\n",
              "      <td id=\"T_657ff_row2_col13\" class=\"data row2 col13\" >0</td>\n",
              "      <td id=\"T_657ff_row2_col14\" class=\"data row2 col14\" >Hibernating Customer</td>\n",
              "    </tr>\n",
              "  </tbody>\n",
              "</table>\n"
            ]
          },
          "metadata": {},
          "execution_count": 66
        }
      ]
    }
  ]
}